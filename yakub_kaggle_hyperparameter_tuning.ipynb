{
 "cells": [
  {
   "cell_type": "code",
   "execution_count": 1,
   "id": "4883b5b7",
   "metadata": {},
   "outputs": [],
   "source": [
    "import pandas as pd\n",
    "import numpy as np\n",
    "import seaborn as sns\n",
    "import matplotlib.pyplot as plt"
   ]
  },
  {
   "cell_type": "code",
   "execution_count": 2,
   "id": "47bb18b0",
   "metadata": {},
   "outputs": [],
   "source": [
    "from sklearn.model_selection import train_test_split\n",
    "from sklearn.ensemble import RandomForestClassifier\n",
    "from sklearn.metrics import classification_report, confusion_matrix, f1_score\n",
    "from xgboost import XGBClassifier"
   ]
  },
  {
   "cell_type": "code",
   "execution_count": 3,
   "id": "315b76ec",
   "metadata": {},
   "outputs": [],
   "source": [
    "df_train= pd.read_csv(r\"C:\\Users\\HP\\Documents\\Yakub_train.csv\")"
   ]
  },
  {
   "cell_type": "code",
   "execution_count": 4,
   "id": "d3d752df",
   "metadata": {},
   "outputs": [],
   "source": [
    "df_test= pd.read_csv(r\"C:\\Users\\HP\\Documents\\Yakub_test.csv\")"
   ]
  },
  {
   "cell_type": "code",
   "execution_count": 5,
   "id": "39139bea",
   "metadata": {},
   "outputs": [
    {
     "name": "stdout",
     "output_type": "stream",
     "text": [
      "<class 'pandas.core.frame.DataFrame'>\n",
      "RangeIndex: 38312 entries, 0 to 38311\n",
      "Data columns (total 19 columns):\n",
      " #   Column                               Non-Null Count  Dtype  \n",
      "---  ------                               --------------  -----  \n",
      " 0   EmployeeNo                           38312 non-null  object \n",
      " 1   Division                             38312 non-null  object \n",
      " 2   Qualification                        36633 non-null  object \n",
      " 3   Gender                               38312 non-null  object \n",
      " 4   Channel_of_Recruitment               38312 non-null  object \n",
      " 5   Trainings_Attended                   38312 non-null  int64  \n",
      " 6   Year_of_birth                        38312 non-null  int64  \n",
      " 7   Last_performance_score               38312 non-null  float64\n",
      " 8   Year_of_recruitment                  38312 non-null  int64  \n",
      " 9   Targets_met                          38312 non-null  int64  \n",
      " 10  Previous_Award                       38312 non-null  int64  \n",
      " 11  Training_score_average               38312 non-null  int64  \n",
      " 12  State_Of_Origin                      38312 non-null  object \n",
      " 13  Foreign_schooled                     38312 non-null  object \n",
      " 14  Marital_Status                       38312 non-null  object \n",
      " 15  Past_Disciplinary_Action             38312 non-null  object \n",
      " 16  Previous_IntraDepartmental_Movement  38312 non-null  object \n",
      " 17  No_of_previous_employers             38312 non-null  object \n",
      " 18  Promoted_or_Not                      38312 non-null  int64  \n",
      "dtypes: float64(1), int64(7), object(11)\n",
      "memory usage: 5.6+ MB\n"
     ]
    }
   ],
   "source": [
    "df_train.info()"
   ]
  },
  {
   "cell_type": "code",
   "execution_count": 6,
   "id": "1126da84",
   "metadata": {},
   "outputs": [
    {
     "data": {
      "text/plain": [
       "EmployeeNo                                0\n",
       "Division                                  0\n",
       "Qualification                          1679\n",
       "Gender                                    0\n",
       "Channel_of_Recruitment                    0\n",
       "Trainings_Attended                        0\n",
       "Year_of_birth                             0\n",
       "Last_performance_score                    0\n",
       "Year_of_recruitment                       0\n",
       "Targets_met                               0\n",
       "Previous_Award                            0\n",
       "Training_score_average                    0\n",
       "State_Of_Origin                           0\n",
       "Foreign_schooled                          0\n",
       "Marital_Status                            0\n",
       "Past_Disciplinary_Action                  0\n",
       "Previous_IntraDepartmental_Movement       0\n",
       "No_of_previous_employers                  0\n",
       "Promoted_or_Not                           0\n",
       "dtype: int64"
      ]
     },
     "execution_count": 6,
     "metadata": {},
     "output_type": "execute_result"
    }
   ],
   "source": [
    "df_train.isnull().sum()"
   ]
  },
  {
   "cell_type": "code",
   "execution_count": 7,
   "id": "92fdb7e6",
   "metadata": {},
   "outputs": [
    {
     "data": {
      "text/plain": [
       "EmployeeNo                               0\n",
       "Division                                 0\n",
       "Qualification                          730\n",
       "Gender                                   0\n",
       "Channel_of_Recruitment                   0\n",
       "Trainings_Attended                       0\n",
       "Year_of_birth                            0\n",
       "Last_performance_score                   0\n",
       "Year_of_recruitment                      0\n",
       "Targets_met                              0\n",
       "Previous_Award                           0\n",
       "Training_score_average                   0\n",
       "State_Of_Origin                          0\n",
       "Foreign_schooled                         0\n",
       "Marital_Status                           0\n",
       "Past_Disciplinary_Action                 0\n",
       "Previous_IntraDepartmental_Movement      0\n",
       "No_of_previous_employers                 0\n",
       "dtype: int64"
      ]
     },
     "execution_count": 7,
     "metadata": {},
     "output_type": "execute_result"
    }
   ],
   "source": [
    "df_test.isnull().sum()"
   ]
  },
  {
   "cell_type": "code",
   "execution_count": 8,
   "id": "08c9ed6f",
   "metadata": {},
   "outputs": [
    {
     "data": {
      "text/plain": [
       "0    35071\n",
       "1     3241\n",
       "Name: Promoted_or_Not, dtype: int64"
      ]
     },
     "execution_count": 8,
     "metadata": {},
     "output_type": "execute_result"
    }
   ],
   "source": [
    "df_train['Promoted_or_Not'].value_counts()"
   ]
  },
  {
   "cell_type": "code",
   "execution_count": 9,
   "id": "c8a1a355",
   "metadata": {},
   "outputs": [
    {
     "data": {
      "text/plain": [
       "'First Degree or HND'"
      ]
     },
     "execution_count": 9,
     "metadata": {},
     "output_type": "execute_result"
    }
   ],
   "source": [
    "df_train['Qualification'].mode()[0]"
   ]
  },
  {
   "cell_type": "code",
   "execution_count": 10,
   "id": "89b8bff4",
   "metadata": {},
   "outputs": [
    {
     "data": {
      "text/plain": [
       "0"
      ]
     },
     "execution_count": 10,
     "metadata": {},
     "output_type": "execute_result"
    }
   ],
   "source": [
    "#filling nan values with mode and indexing\n",
    "df_train['Qualification']=df_train['Qualification'].fillna(value= df_train['Qualification'].mode()[0])\n",
    "df_train['Qualification'].isnull().sum()"
   ]
  },
  {
   "cell_type": "code",
   "execution_count": null,
   "id": "33785611",
   "metadata": {},
   "outputs": [],
   "source": []
  },
  {
   "cell_type": "code",
   "execution_count": 11,
   "id": "459aead8",
   "metadata": {},
   "outputs": [
    {
     "data": {
      "text/plain": [
       "[2, 4, 6, 8, 10]"
      ]
     },
     "execution_count": 11,
     "metadata": {},
     "output_type": "execute_result"
    }
   ],
   "source": [
    "#LIST COMPREHENSION\n",
    "b = [1,2,3,4,5,6,7,8,9,10]\n",
    "a=[i for i in b if i%2==0]\n",
    "a"
   ]
  },
  {
   "cell_type": "code",
   "execution_count": 12,
   "id": "1ff70d74",
   "metadata": {},
   "outputs": [],
   "source": [
    "a= []\n",
    "b = [1,2,3,4,5,6,7,8,9,10]\n",
    "for i in b:\n",
    "    if i%2==0:\n",
    "        a.append(i)"
   ]
  },
  {
   "cell_type": "code",
   "execution_count": 13,
   "id": "54ceac86",
   "metadata": {},
   "outputs": [
    {
     "data": {
      "text/plain": [
       "<AxesSubplot:xlabel='No_of_previous_employers', ylabel='count'>"
      ]
     },
     "execution_count": 13,
     "metadata": {},
     "output_type": "execute_result"
    },
    {
     "data": {
      "image/png": "[encoded data removed]",
      "text/plain": [
       "<Figure size 432x288 with 1 Axes>"
      ]
     },
     "metadata": {
      "needs_background": "light"
     },
     "output_type": "display_data"
    }
   ],
   "source": [
    "sns.countplot(x='No_of_previous_employers', hue='Promoted_or_Not', data= df_train)"
   ]
  },
  {
   "cell_type": "code",
   "execution_count": 14,
   "id": "491d2d4b",
   "metadata": {},
   "outputs": [],
   "source": [
    "#we will drop the rows with 'more than'  using conditional selection\n",
    "df_train = df_train[df_train['No_of_previous_employers'] != 'More than 5']"
   ]
  },
  {
   "cell_type": "code",
   "execution_count": 15,
   "id": "4819f2ed",
   "metadata": {},
   "outputs": [
    {
     "name": "stdout",
     "output_type": "stream",
     "text": [
      "<class 'pandas.core.frame.DataFrame'>\n",
      "Int64Index: 37911 entries, 0 to 38311\n",
      "Data columns (total 19 columns):\n",
      " #   Column                               Non-Null Count  Dtype  \n",
      "---  ------                               --------------  -----  \n",
      " 0   EmployeeNo                           37911 non-null  object \n",
      " 1   Division                             37911 non-null  object \n",
      " 2   Qualification                        37911 non-null  object \n",
      " 3   Gender                               37911 non-null  object \n",
      " 4   Channel_of_Recruitment               37911 non-null  object \n",
      " 5   Trainings_Attended                   37911 non-null  int64  \n",
      " 6   Year_of_birth                        37911 non-null  int64  \n",
      " 7   Last_performance_score               37911 non-null  float64\n",
      " 8   Year_of_recruitment                  37911 non-null  int64  \n",
      " 9   Targets_met                          37911 non-null  int64  \n",
      " 10  Previous_Award                       37911 non-null  int64  \n",
      " 11  Training_score_average               37911 non-null  int64  \n",
      " 12  State_Of_Origin                      37911 non-null  object \n",
      " 13  Foreign_schooled                     37911 non-null  object \n",
      " 14  Marital_Status                       37911 non-null  object \n",
      " 15  Past_Disciplinary_Action             37911 non-null  object \n",
      " 16  Previous_IntraDepartmental_Movement  37911 non-null  object \n",
      " 17  No_of_previous_employers             37911 non-null  object \n",
      " 18  Promoted_or_Not                      37911 non-null  int64  \n",
      "dtypes: float64(1), int64(7), object(11)\n",
      "memory usage: 5.8+ MB\n"
     ]
    }
   ],
   "source": [
    "df_train.info()"
   ]
  },
  {
   "cell_type": "code",
   "execution_count": 16,
   "id": "2be23c9f",
   "metadata": {},
   "outputs": [],
   "source": [
    "#to have the dtype of the column as integer instead of object\n",
    "df_train['No_of_previous_employers']= df_train['No_of_previous_employers'].astype('int')"
   ]
  },
  {
   "cell_type": "code",
   "execution_count": 17,
   "id": "6d4dae8f",
   "metadata": {},
   "outputs": [
    {
     "data": {
      "text/plain": [
       "EmployeeNo                              object\n",
       "Division                                object\n",
       "Qualification                           object\n",
       "Gender                                  object\n",
       "Channel_of_Recruitment                  object\n",
       "Trainings_Attended                       int64\n",
       "Year_of_birth                            int64\n",
       "Last_performance_score                 float64\n",
       "Year_of_recruitment                      int64\n",
       "Targets_met                              int64\n",
       "Previous_Award                           int64\n",
       "Training_score_average                   int64\n",
       "State_Of_Origin                         object\n",
       "Foreign_schooled                        object\n",
       "Marital_Status                          object\n",
       "Past_Disciplinary_Action                object\n",
       "Previous_IntraDepartmental_Movement     object\n",
       "No_of_previous_employers                 int32\n",
       "Promoted_or_Not                          int64\n",
       "dtype: object"
      ]
     },
     "execution_count": 17,
     "metadata": {},
     "output_type": "execute_result"
    }
   ],
   "source": [
    "df_train.dtypes"
   ]
  },
  {
   "cell_type": "code",
   "execution_count": null,
   "id": "51321a28",
   "metadata": {},
   "outputs": [],
   "source": []
  },
  {
   "cell_type": "code",
   "execution_count": 18,
   "id": "a3475406",
   "metadata": {},
   "outputs": [
    {
     "data": {
      "text/plain": [
       "<AxesSubplot:xlabel='count', ylabel='Division'>"
      ]
     },
     "execution_count": 18,
     "metadata": {},
     "output_type": "execute_result"
    },
    {
     "data": {
      "image/png": "[encoded data removed]",
      "text/plain": [
       "<Figure size 432x288 with 1 Axes>"
      ]
     },
     "metadata": {
      "needs_background": "light"
     },
     "output_type": "display_data"
    }
   ],
   "source": [
    "sns.countplot(y='Division', hue='Promoted_or_Not', data= df_train)"
   ]
  },
  {
   "cell_type": "code",
   "execution_count": null,
   "id": "4fc5b8cc",
   "metadata": {},
   "outputs": [],
   "source": [
    "#cat_cols= []\n",
    "#for col in df_train.columns:\n",
    "    #if df_train[col].dtype == 'object' and df_train[col].nunique()<10:\n",
    "        #cat_cols.append(col)"
   ]
  },
  {
   "cell_type": "code",
   "execution_count": null,
   "id": "7482a359",
   "metadata": {},
   "outputs": [],
   "source": [
    "#cat_cols"
   ]
  },
  {
   "cell_type": "code",
   "execution_count": 19,
   "id": "d09a9133",
   "metadata": {},
   "outputs": [],
   "source": [
    "categorical_cols = [col for col in df_train.columns\n",
    "                    if df_train[col].dtype== 'object' and \n",
    "                    df_train[col].nunique()<10]\n",
    "    \n"
   ]
  },
  {
   "cell_type": "code",
   "execution_count": 20,
   "id": "ea864e52",
   "metadata": {},
   "outputs": [
    {
     "data": {
      "text/plain": [
       "['Division',\n",
       " 'Gender',\n",
       " 'Channel_of_Recruitment',\n",
       " 'Foreign_schooled',\n",
       " 'Marital_Status',\n",
       " 'Past_Disciplinary_Action',\n",
       " 'Previous_IntraDepartmental_Movement']"
      ]
     },
     "execution_count": 20,
     "metadata": {},
     "output_type": "execute_result"
    }
   ],
   "source": [
    "categorical_cols.remove('Qualification')\n",
    "categorical_cols"
   ]
  },
  {
   "cell_type": "code",
   "execution_count": 21,
   "id": "b8fe0862",
   "metadata": {},
   "outputs": [
    {
     "data": {
      "text/plain": [
       "First Degree or HND         26960\n",
       "MSc, MBA and PhD            10368\n",
       "Non-University Education      583\n",
       "Name: Qualification, dtype: int64"
      ]
     },
     "execution_count": 21,
     "metadata": {},
     "output_type": "execute_result"
    }
   ],
   "source": [
    "df_train['Qualification'].value_counts()"
   ]
  },
  {
   "cell_type": "code",
   "execution_count": 22,
   "id": "34c8f8a9",
   "metadata": {},
   "outputs": [],
   "source": [
    "def enc(col):\n",
    "    if col == 'Non-University Education':\n",
    "        return 0\n",
    "    elif col == 'First Degree or HND':\n",
    "        return 1\n",
    "    else:\n",
    "        return 2"
   ]
  },
  {
   "cell_type": "code",
   "execution_count": 23,
   "id": "bdf2df72",
   "metadata": {},
   "outputs": [
    {
     "data": {
      "text/plain": [
       "0        2\n",
       "1        1\n",
       "2        1\n",
       "3        1\n",
       "4        1\n",
       "        ..\n",
       "38307    1\n",
       "38308    2\n",
       "38309    1\n",
       "38310    1\n",
       "38311    1\n",
       "Name: Qualification, Length: 37911, dtype: int64"
      ]
     },
     "execution_count": 23,
     "metadata": {},
     "output_type": "execute_result"
    }
   ],
   "source": [
    "df_train['Qualification']= df_train['Qualification'].apply(enc)\n",
    "df_train['Qualification']"
   ]
  },
  {
   "cell_type": "code",
   "execution_count": 24,
   "id": "d062fed2",
   "metadata": {},
   "outputs": [
    {
     "data": {
      "text/html": [
       "<div>\n",
       "<style scoped>\n",
       "    .dataframe tbody tr th:only-of-type {\n",
       "        vertical-align: middle;\n",
       "    }\n",
       "\n",
       "    .dataframe tbody tr th {\n",
       "        vertical-align: top;\n",
       "    }\n",
       "\n",
       "    .dataframe thead th {\n",
       "        text-align: right;\n",
       "    }\n",
       "</style>\n",
       "<table border=\"1\" class=\"dataframe\">\n",
       "  <thead>\n",
       "    <tr style=\"text-align: right;\">\n",
       "      <th></th>\n",
       "      <th>EmployeeNo</th>\n",
       "      <th>Qualification</th>\n",
       "      <th>Trainings_Attended</th>\n",
       "      <th>Year_of_birth</th>\n",
       "      <th>Last_performance_score</th>\n",
       "      <th>Year_of_recruitment</th>\n",
       "      <th>Targets_met</th>\n",
       "      <th>Previous_Award</th>\n",
       "      <th>Training_score_average</th>\n",
       "      <th>State_Of_Origin</th>\n",
       "      <th>...</th>\n",
       "      <th>Division_Research and Innovation</th>\n",
       "      <th>Division_Sourcing and Purchasing</th>\n",
       "      <th>Gender_Male</th>\n",
       "      <th>Channel_of_Recruitment_Direct Internal process</th>\n",
       "      <th>Channel_of_Recruitment_Referral and Special candidates</th>\n",
       "      <th>Foreign_schooled_Yes</th>\n",
       "      <th>Marital_Status_Not_Sure</th>\n",
       "      <th>Marital_Status_Single</th>\n",
       "      <th>Past_Disciplinary_Action_Yes</th>\n",
       "      <th>Previous_IntraDepartmental_Movement_Yes</th>\n",
       "    </tr>\n",
       "  </thead>\n",
       "  <tbody>\n",
       "    <tr>\n",
       "      <th>0</th>\n",
       "      <td>YAK/S/00001</td>\n",
       "      <td>2</td>\n",
       "      <td>2</td>\n",
       "      <td>1986</td>\n",
       "      <td>12.5</td>\n",
       "      <td>2011</td>\n",
       "      <td>1</td>\n",
       "      <td>0</td>\n",
       "      <td>41</td>\n",
       "      <td>ANAMBRA</td>\n",
       "      <td>...</td>\n",
       "      <td>0</td>\n",
       "      <td>0</td>\n",
       "      <td>0</td>\n",
       "      <td>1</td>\n",
       "      <td>0</td>\n",
       "      <td>0</td>\n",
       "      <td>0</td>\n",
       "      <td>0</td>\n",
       "      <td>0</td>\n",
       "      <td>0</td>\n",
       "    </tr>\n",
       "    <tr>\n",
       "      <th>1</th>\n",
       "      <td>YAK/S/00002</td>\n",
       "      <td>1</td>\n",
       "      <td>2</td>\n",
       "      <td>1991</td>\n",
       "      <td>12.5</td>\n",
       "      <td>2015</td>\n",
       "      <td>0</td>\n",
       "      <td>0</td>\n",
       "      <td>52</td>\n",
       "      <td>ANAMBRA</td>\n",
       "      <td>...</td>\n",
       "      <td>0</td>\n",
       "      <td>0</td>\n",
       "      <td>1</td>\n",
       "      <td>0</td>\n",
       "      <td>0</td>\n",
       "      <td>1</td>\n",
       "      <td>0</td>\n",
       "      <td>0</td>\n",
       "      <td>0</td>\n",
       "      <td>0</td>\n",
       "    </tr>\n",
       "    <tr>\n",
       "      <th>2</th>\n",
       "      <td>YAK/S/00003</td>\n",
       "      <td>1</td>\n",
       "      <td>2</td>\n",
       "      <td>1987</td>\n",
       "      <td>7.5</td>\n",
       "      <td>2012</td>\n",
       "      <td>0</td>\n",
       "      <td>0</td>\n",
       "      <td>42</td>\n",
       "      <td>KATSINA</td>\n",
       "      <td>...</td>\n",
       "      <td>0</td>\n",
       "      <td>0</td>\n",
       "      <td>1</td>\n",
       "      <td>1</td>\n",
       "      <td>0</td>\n",
       "      <td>1</td>\n",
       "      <td>0</td>\n",
       "      <td>0</td>\n",
       "      <td>0</td>\n",
       "      <td>0</td>\n",
       "    </tr>\n",
       "    <tr>\n",
       "      <th>3</th>\n",
       "      <td>YAK/S/00004</td>\n",
       "      <td>1</td>\n",
       "      <td>3</td>\n",
       "      <td>1982</td>\n",
       "      <td>2.5</td>\n",
       "      <td>2009</td>\n",
       "      <td>0</td>\n",
       "      <td>0</td>\n",
       "      <td>42</td>\n",
       "      <td>NIGER</td>\n",
       "      <td>...</td>\n",
       "      <td>0</td>\n",
       "      <td>0</td>\n",
       "      <td>1</td>\n",
       "      <td>0</td>\n",
       "      <td>0</td>\n",
       "      <td>1</td>\n",
       "      <td>0</td>\n",
       "      <td>1</td>\n",
       "      <td>0</td>\n",
       "      <td>0</td>\n",
       "    </tr>\n",
       "    <tr>\n",
       "      <th>4</th>\n",
       "      <td>YAK/S/00006</td>\n",
       "      <td>1</td>\n",
       "      <td>3</td>\n",
       "      <td>1990</td>\n",
       "      <td>7.5</td>\n",
       "      <td>2012</td>\n",
       "      <td>0</td>\n",
       "      <td>0</td>\n",
       "      <td>77</td>\n",
       "      <td>AKWA IBOM</td>\n",
       "      <td>...</td>\n",
       "      <td>0</td>\n",
       "      <td>0</td>\n",
       "      <td>1</td>\n",
       "      <td>1</td>\n",
       "      <td>0</td>\n",
       "      <td>1</td>\n",
       "      <td>0</td>\n",
       "      <td>0</td>\n",
       "      <td>0</td>\n",
       "      <td>0</td>\n",
       "    </tr>\n",
       "    <tr>\n",
       "      <th>...</th>\n",
       "      <td>...</td>\n",
       "      <td>...</td>\n",
       "      <td>...</td>\n",
       "      <td>...</td>\n",
       "      <td>...</td>\n",
       "      <td>...</td>\n",
       "      <td>...</td>\n",
       "      <td>...</td>\n",
       "      <td>...</td>\n",
       "      <td>...</td>\n",
       "      <td>...</td>\n",
       "      <td>...</td>\n",
       "      <td>...</td>\n",
       "      <td>...</td>\n",
       "      <td>...</td>\n",
       "      <td>...</td>\n",
       "      <td>...</td>\n",
       "      <td>...</td>\n",
       "      <td>...</td>\n",
       "      <td>...</td>\n",
       "      <td>...</td>\n",
       "    </tr>\n",
       "    <tr>\n",
       "      <th>38307</th>\n",
       "      <td>YAK/S/54802</td>\n",
       "      <td>1</td>\n",
       "      <td>2</td>\n",
       "      <td>1990</td>\n",
       "      <td>0.0</td>\n",
       "      <td>2018</td>\n",
       "      <td>0</td>\n",
       "      <td>0</td>\n",
       "      <td>70</td>\n",
       "      <td>LAGOS</td>\n",
       "      <td>...</td>\n",
       "      <td>0</td>\n",
       "      <td>0</td>\n",
       "      <td>0</td>\n",
       "      <td>1</td>\n",
       "      <td>0</td>\n",
       "      <td>1</td>\n",
       "      <td>0</td>\n",
       "      <td>0</td>\n",
       "      <td>0</td>\n",
       "      <td>0</td>\n",
       "    </tr>\n",
       "    <tr>\n",
       "      <th>38308</th>\n",
       "      <td>YAK/S/54805</td>\n",
       "      <td>2</td>\n",
       "      <td>2</td>\n",
       "      <td>1984</td>\n",
       "      <td>5.0</td>\n",
       "      <td>2013</td>\n",
       "      <td>0</td>\n",
       "      <td>0</td>\n",
       "      <td>48</td>\n",
       "      <td>IMO</td>\n",
       "      <td>...</td>\n",
       "      <td>0</td>\n",
       "      <td>0</td>\n",
       "      <td>0</td>\n",
       "      <td>0</td>\n",
       "      <td>0</td>\n",
       "      <td>1</td>\n",
       "      <td>0</td>\n",
       "      <td>0</td>\n",
       "      <td>0</td>\n",
       "      <td>0</td>\n",
       "    </tr>\n",
       "    <tr>\n",
       "      <th>38309</th>\n",
       "      <td>YAK/S/54806</td>\n",
       "      <td>1</td>\n",
       "      <td>2</td>\n",
       "      <td>1994</td>\n",
       "      <td>12.5</td>\n",
       "      <td>2016</td>\n",
       "      <td>1</td>\n",
       "      <td>0</td>\n",
       "      <td>71</td>\n",
       "      <td>ANAMBRA</td>\n",
       "      <td>...</td>\n",
       "      <td>0</td>\n",
       "      <td>0</td>\n",
       "      <td>1</td>\n",
       "      <td>0</td>\n",
       "      <td>0</td>\n",
       "      <td>0</td>\n",
       "      <td>0</td>\n",
       "      <td>0</td>\n",
       "      <td>0</td>\n",
       "      <td>0</td>\n",
       "    </tr>\n",
       "    <tr>\n",
       "      <th>38310</th>\n",
       "      <td>YAK/S/54807</td>\n",
       "      <td>1</td>\n",
       "      <td>2</td>\n",
       "      <td>1992</td>\n",
       "      <td>2.5</td>\n",
       "      <td>2017</td>\n",
       "      <td>0</td>\n",
       "      <td>0</td>\n",
       "      <td>37</td>\n",
       "      <td>KWARA</td>\n",
       "      <td>...</td>\n",
       "      <td>0</td>\n",
       "      <td>0</td>\n",
       "      <td>1</td>\n",
       "      <td>1</td>\n",
       "      <td>0</td>\n",
       "      <td>1</td>\n",
       "      <td>0</td>\n",
       "      <td>0</td>\n",
       "      <td>0</td>\n",
       "      <td>0</td>\n",
       "    </tr>\n",
       "    <tr>\n",
       "      <th>38311</th>\n",
       "      <td>YAK/S/54808</td>\n",
       "      <td>1</td>\n",
       "      <td>2</td>\n",
       "      <td>1994</td>\n",
       "      <td>2.5</td>\n",
       "      <td>2014</td>\n",
       "      <td>0</td>\n",
       "      <td>0</td>\n",
       "      <td>41</td>\n",
       "      <td>KWARA</td>\n",
       "      <td>...</td>\n",
       "      <td>0</td>\n",
       "      <td>0</td>\n",
       "      <td>1</td>\n",
       "      <td>0</td>\n",
       "      <td>0</td>\n",
       "      <td>1</td>\n",
       "      <td>0</td>\n",
       "      <td>1</td>\n",
       "      <td>0</td>\n",
       "      <td>0</td>\n",
       "    </tr>\n",
       "  </tbody>\n",
       "</table>\n",
       "<p>37911 rows × 28 columns</p>\n",
       "</div>"
      ],
      "text/plain": [
       "        EmployeeNo  Qualification  Trainings_Attended  Year_of_birth  \\\n",
       "0      YAK/S/00001              2                   2           1986   \n",
       "1      YAK/S/00002              1                   2           1991   \n",
       "2      YAK/S/00003              1                   2           1987   \n",
       "3      YAK/S/00004              1                   3           1982   \n",
       "4      YAK/S/00006              1                   3           1990   \n",
       "...            ...            ...                 ...            ...   \n",
       "38307  YAK/S/54802              1                   2           1990   \n",
       "38308  YAK/S/54805              2                   2           1984   \n",
       "38309  YAK/S/54806              1                   2           1994   \n",
       "38310  YAK/S/54807              1                   2           1992   \n",
       "38311  YAK/S/54808              1                   2           1994   \n",
       "\n",
       "       Last_performance_score  Year_of_recruitment  Targets_met  \\\n",
       "0                        12.5                 2011            1   \n",
       "1                        12.5                 2015            0   \n",
       "2                         7.5                 2012            0   \n",
       "3                         2.5                 2009            0   \n",
       "4                         7.5                 2012            0   \n",
       "...                       ...                  ...          ...   \n",
       "38307                     0.0                 2018            0   \n",
       "38308                     5.0                 2013            0   \n",
       "38309                    12.5                 2016            1   \n",
       "38310                     2.5                 2017            0   \n",
       "38311                     2.5                 2014            0   \n",
       "\n",
       "       Previous_Award  Training_score_average State_Of_Origin  ...  \\\n",
       "0                   0                      41         ANAMBRA  ...   \n",
       "1                   0                      52         ANAMBRA  ...   \n",
       "2                   0                      42         KATSINA  ...   \n",
       "3                   0                      42           NIGER  ...   \n",
       "4                   0                      77       AKWA IBOM  ...   \n",
       "...               ...                     ...             ...  ...   \n",
       "38307               0                      70           LAGOS  ...   \n",
       "38308               0                      48             IMO  ...   \n",
       "38309               0                      71         ANAMBRA  ...   \n",
       "38310               0                      37           KWARA  ...   \n",
       "38311               0                      41           KWARA  ...   \n",
       "\n",
       "       Division_Research and Innovation  Division_Sourcing and Purchasing  \\\n",
       "0                                     0                                 0   \n",
       "1                                     0                                 0   \n",
       "2                                     0                                 0   \n",
       "3                                     0                                 0   \n",
       "4                                     0                                 0   \n",
       "...                                 ...                               ...   \n",
       "38307                                 0                                 0   \n",
       "38308                                 0                                 0   \n",
       "38309                                 0                                 0   \n",
       "38310                                 0                                 0   \n",
       "38311                                 0                                 0   \n",
       "\n",
       "       Gender_Male  Channel_of_Recruitment_Direct Internal process  \\\n",
       "0                0                                               1   \n",
       "1                1                                               0   \n",
       "2                1                                               1   \n",
       "3                1                                               0   \n",
       "4                1                                               1   \n",
       "...            ...                                             ...   \n",
       "38307            0                                               1   \n",
       "38308            0                                               0   \n",
       "38309            1                                               0   \n",
       "38310            1                                               1   \n",
       "38311            1                                               0   \n",
       "\n",
       "       Channel_of_Recruitment_Referral and Special candidates  \\\n",
       "0                                                      0        \n",
       "1                                                      0        \n",
       "2                                                      0        \n",
       "3                                                      0        \n",
       "4                                                      0        \n",
       "...                                                  ...        \n",
       "38307                                                  0        \n",
       "38308                                                  0        \n",
       "38309                                                  0        \n",
       "38310                                                  0        \n",
       "38311                                                  0        \n",
       "\n",
       "       Foreign_schooled_Yes  Marital_Status_Not_Sure  Marital_Status_Single  \\\n",
       "0                         0                        0                      0   \n",
       "1                         1                        0                      0   \n",
       "2                         1                        0                      0   \n",
       "3                         1                        0                      1   \n",
       "4                         1                        0                      0   \n",
       "...                     ...                      ...                    ...   \n",
       "38307                     1                        0                      0   \n",
       "38308                     1                        0                      0   \n",
       "38309                     0                        0                      0   \n",
       "38310                     1                        0                      0   \n",
       "38311                     1                        0                      1   \n",
       "\n",
       "       Past_Disciplinary_Action_Yes  Previous_IntraDepartmental_Movement_Yes  \n",
       "0                                 0                                        0  \n",
       "1                                 0                                        0  \n",
       "2                                 0                                        0  \n",
       "3                                 0                                        0  \n",
       "4                                 0                                        0  \n",
       "...                             ...                                      ...  \n",
       "38307                             0                                        0  \n",
       "38308                             0                                        0  \n",
       "38309                             0                                        0  \n",
       "38310                             0                                        0  \n",
       "38311                             0                                        0  \n",
       "\n",
       "[37911 rows x 28 columns]"
      ]
     },
     "execution_count": 24,
     "metadata": {},
     "output_type": "execute_result"
    }
   ],
   "source": [
    "data = pd.get_dummies(df_train, columns= categorical_cols, drop_first= True)\n",
    "data"
   ]
  },
  {
   "cell_type": "code",
   "execution_count": 25,
   "id": "f0d07f8d",
   "metadata": {},
   "outputs": [],
   "source": [
    "data.drop(['EmployeeNo', 'State_Of_Origin'], axis=1, inplace= True)"
   ]
  },
  {
   "cell_type": "code",
   "execution_count": 26,
   "id": "1b37be2e",
   "metadata": {},
   "outputs": [
    {
     "data": {
      "text/html": [
       "<div>\n",
       "<style scoped>\n",
       "    .dataframe tbody tr th:only-of-type {\n",
       "        vertical-align: middle;\n",
       "    }\n",
       "\n",
       "    .dataframe tbody tr th {\n",
       "        vertical-align: top;\n",
       "    }\n",
       "\n",
       "    .dataframe thead th {\n",
       "        text-align: right;\n",
       "    }\n",
       "</style>\n",
       "<table border=\"1\" class=\"dataframe\">\n",
       "  <thead>\n",
       "    <tr style=\"text-align: right;\">\n",
       "      <th></th>\n",
       "      <th>Qualification</th>\n",
       "      <th>Trainings_Attended</th>\n",
       "      <th>Year_of_birth</th>\n",
       "      <th>Last_performance_score</th>\n",
       "      <th>Year_of_recruitment</th>\n",
       "      <th>Targets_met</th>\n",
       "      <th>Previous_Award</th>\n",
       "      <th>Training_score_average</th>\n",
       "      <th>No_of_previous_employers</th>\n",
       "      <th>Promoted_or_Not</th>\n",
       "      <th>...</th>\n",
       "      <th>Division_Research and Innovation</th>\n",
       "      <th>Division_Sourcing and Purchasing</th>\n",
       "      <th>Gender_Male</th>\n",
       "      <th>Channel_of_Recruitment_Direct Internal process</th>\n",
       "      <th>Channel_of_Recruitment_Referral and Special candidates</th>\n",
       "      <th>Foreign_schooled_Yes</th>\n",
       "      <th>Marital_Status_Not_Sure</th>\n",
       "      <th>Marital_Status_Single</th>\n",
       "      <th>Past_Disciplinary_Action_Yes</th>\n",
       "      <th>Previous_IntraDepartmental_Movement_Yes</th>\n",
       "    </tr>\n",
       "  </thead>\n",
       "  <tbody>\n",
       "    <tr>\n",
       "      <th>0</th>\n",
       "      <td>2</td>\n",
       "      <td>2</td>\n",
       "      <td>1986</td>\n",
       "      <td>12.5</td>\n",
       "      <td>2011</td>\n",
       "      <td>1</td>\n",
       "      <td>0</td>\n",
       "      <td>41</td>\n",
       "      <td>0</td>\n",
       "      <td>0</td>\n",
       "      <td>...</td>\n",
       "      <td>0</td>\n",
       "      <td>0</td>\n",
       "      <td>0</td>\n",
       "      <td>1</td>\n",
       "      <td>0</td>\n",
       "      <td>0</td>\n",
       "      <td>0</td>\n",
       "      <td>0</td>\n",
       "      <td>0</td>\n",
       "      <td>0</td>\n",
       "    </tr>\n",
       "    <tr>\n",
       "      <th>1</th>\n",
       "      <td>1</td>\n",
       "      <td>2</td>\n",
       "      <td>1991</td>\n",
       "      <td>12.5</td>\n",
       "      <td>2015</td>\n",
       "      <td>0</td>\n",
       "      <td>0</td>\n",
       "      <td>52</td>\n",
       "      <td>0</td>\n",
       "      <td>0</td>\n",
       "      <td>...</td>\n",
       "      <td>0</td>\n",
       "      <td>0</td>\n",
       "      <td>1</td>\n",
       "      <td>0</td>\n",
       "      <td>0</td>\n",
       "      <td>1</td>\n",
       "      <td>0</td>\n",
       "      <td>0</td>\n",
       "      <td>0</td>\n",
       "      <td>0</td>\n",
       "    </tr>\n",
       "    <tr>\n",
       "      <th>2</th>\n",
       "      <td>1</td>\n",
       "      <td>2</td>\n",
       "      <td>1987</td>\n",
       "      <td>7.5</td>\n",
       "      <td>2012</td>\n",
       "      <td>0</td>\n",
       "      <td>0</td>\n",
       "      <td>42</td>\n",
       "      <td>0</td>\n",
       "      <td>0</td>\n",
       "      <td>...</td>\n",
       "      <td>0</td>\n",
       "      <td>0</td>\n",
       "      <td>1</td>\n",
       "      <td>1</td>\n",
       "      <td>0</td>\n",
       "      <td>1</td>\n",
       "      <td>0</td>\n",
       "      <td>0</td>\n",
       "      <td>0</td>\n",
       "      <td>0</td>\n",
       "    </tr>\n",
       "    <tr>\n",
       "      <th>3</th>\n",
       "      <td>1</td>\n",
       "      <td>3</td>\n",
       "      <td>1982</td>\n",
       "      <td>2.5</td>\n",
       "      <td>2009</td>\n",
       "      <td>0</td>\n",
       "      <td>0</td>\n",
       "      <td>42</td>\n",
       "      <td>1</td>\n",
       "      <td>0</td>\n",
       "      <td>...</td>\n",
       "      <td>0</td>\n",
       "      <td>0</td>\n",
       "      <td>1</td>\n",
       "      <td>0</td>\n",
       "      <td>0</td>\n",
       "      <td>1</td>\n",
       "      <td>0</td>\n",
       "      <td>1</td>\n",
       "      <td>0</td>\n",
       "      <td>0</td>\n",
       "    </tr>\n",
       "    <tr>\n",
       "      <th>4</th>\n",
       "      <td>1</td>\n",
       "      <td>3</td>\n",
       "      <td>1990</td>\n",
       "      <td>7.5</td>\n",
       "      <td>2012</td>\n",
       "      <td>0</td>\n",
       "      <td>0</td>\n",
       "      <td>77</td>\n",
       "      <td>1</td>\n",
       "      <td>0</td>\n",
       "      <td>...</td>\n",
       "      <td>0</td>\n",
       "      <td>0</td>\n",
       "      <td>1</td>\n",
       "      <td>1</td>\n",
       "      <td>0</td>\n",
       "      <td>1</td>\n",
       "      <td>0</td>\n",
       "      <td>0</td>\n",
       "      <td>0</td>\n",
       "      <td>0</td>\n",
       "    </tr>\n",
       "    <tr>\n",
       "      <th>...</th>\n",
       "      <td>...</td>\n",
       "      <td>...</td>\n",
       "      <td>...</td>\n",
       "      <td>...</td>\n",
       "      <td>...</td>\n",
       "      <td>...</td>\n",
       "      <td>...</td>\n",
       "      <td>...</td>\n",
       "      <td>...</td>\n",
       "      <td>...</td>\n",
       "      <td>...</td>\n",
       "      <td>...</td>\n",
       "      <td>...</td>\n",
       "      <td>...</td>\n",
       "      <td>...</td>\n",
       "      <td>...</td>\n",
       "      <td>...</td>\n",
       "      <td>...</td>\n",
       "      <td>...</td>\n",
       "      <td>...</td>\n",
       "      <td>...</td>\n",
       "    </tr>\n",
       "    <tr>\n",
       "      <th>38307</th>\n",
       "      <td>1</td>\n",
       "      <td>2</td>\n",
       "      <td>1990</td>\n",
       "      <td>0.0</td>\n",
       "      <td>2018</td>\n",
       "      <td>0</td>\n",
       "      <td>0</td>\n",
       "      <td>70</td>\n",
       "      <td>0</td>\n",
       "      <td>0</td>\n",
       "      <td>...</td>\n",
       "      <td>0</td>\n",
       "      <td>0</td>\n",
       "      <td>0</td>\n",
       "      <td>1</td>\n",
       "      <td>0</td>\n",
       "      <td>1</td>\n",
       "      <td>0</td>\n",
       "      <td>0</td>\n",
       "      <td>0</td>\n",
       "      <td>0</td>\n",
       "    </tr>\n",
       "    <tr>\n",
       "      <th>38308</th>\n",
       "      <td>2</td>\n",
       "      <td>2</td>\n",
       "      <td>1984</td>\n",
       "      <td>5.0</td>\n",
       "      <td>2013</td>\n",
       "      <td>0</td>\n",
       "      <td>0</td>\n",
       "      <td>48</td>\n",
       "      <td>1</td>\n",
       "      <td>0</td>\n",
       "      <td>...</td>\n",
       "      <td>0</td>\n",
       "      <td>0</td>\n",
       "      <td>0</td>\n",
       "      <td>0</td>\n",
       "      <td>0</td>\n",
       "      <td>1</td>\n",
       "      <td>0</td>\n",
       "      <td>0</td>\n",
       "      <td>0</td>\n",
       "      <td>0</td>\n",
       "    </tr>\n",
       "    <tr>\n",
       "      <th>38309</th>\n",
       "      <td>1</td>\n",
       "      <td>2</td>\n",
       "      <td>1994</td>\n",
       "      <td>12.5</td>\n",
       "      <td>2016</td>\n",
       "      <td>1</td>\n",
       "      <td>0</td>\n",
       "      <td>71</td>\n",
       "      <td>3</td>\n",
       "      <td>0</td>\n",
       "      <td>...</td>\n",
       "      <td>0</td>\n",
       "      <td>0</td>\n",
       "      <td>1</td>\n",
       "      <td>0</td>\n",
       "      <td>0</td>\n",
       "      <td>0</td>\n",
       "      <td>0</td>\n",
       "      <td>0</td>\n",
       "      <td>0</td>\n",
       "      <td>0</td>\n",
       "    </tr>\n",
       "    <tr>\n",
       "      <th>38310</th>\n",
       "      <td>1</td>\n",
       "      <td>2</td>\n",
       "      <td>1992</td>\n",
       "      <td>2.5</td>\n",
       "      <td>2017</td>\n",
       "      <td>0</td>\n",
       "      <td>0</td>\n",
       "      <td>37</td>\n",
       "      <td>1</td>\n",
       "      <td>0</td>\n",
       "      <td>...</td>\n",
       "      <td>0</td>\n",
       "      <td>0</td>\n",
       "      <td>1</td>\n",
       "      <td>1</td>\n",
       "      <td>0</td>\n",
       "      <td>1</td>\n",
       "      <td>0</td>\n",
       "      <td>0</td>\n",
       "      <td>0</td>\n",
       "      <td>0</td>\n",
       "    </tr>\n",
       "    <tr>\n",
       "      <th>38311</th>\n",
       "      <td>1</td>\n",
       "      <td>2</td>\n",
       "      <td>1994</td>\n",
       "      <td>2.5</td>\n",
       "      <td>2014</td>\n",
       "      <td>0</td>\n",
       "      <td>0</td>\n",
       "      <td>41</td>\n",
       "      <td>2</td>\n",
       "      <td>0</td>\n",
       "      <td>...</td>\n",
       "      <td>0</td>\n",
       "      <td>0</td>\n",
       "      <td>1</td>\n",
       "      <td>0</td>\n",
       "      <td>0</td>\n",
       "      <td>1</td>\n",
       "      <td>0</td>\n",
       "      <td>1</td>\n",
       "      <td>0</td>\n",
       "      <td>0</td>\n",
       "    </tr>\n",
       "  </tbody>\n",
       "</table>\n",
       "<p>37911 rows × 26 columns</p>\n",
       "</div>"
      ],
      "text/plain": [
       "       Qualification  Trainings_Attended  Year_of_birth  \\\n",
       "0                  2                   2           1986   \n",
       "1                  1                   2           1991   \n",
       "2                  1                   2           1987   \n",
       "3                  1                   3           1982   \n",
       "4                  1                   3           1990   \n",
       "...              ...                 ...            ...   \n",
       "38307              1                   2           1990   \n",
       "38308              2                   2           1984   \n",
       "38309              1                   2           1994   \n",
       "38310              1                   2           1992   \n",
       "38311              1                   2           1994   \n",
       "\n",
       "       Last_performance_score  Year_of_recruitment  Targets_met  \\\n",
       "0                        12.5                 2011            1   \n",
       "1                        12.5                 2015            0   \n",
       "2                         7.5                 2012            0   \n",
       "3                         2.5                 2009            0   \n",
       "4                         7.5                 2012            0   \n",
       "...                       ...                  ...          ...   \n",
       "38307                     0.0                 2018            0   \n",
       "38308                     5.0                 2013            0   \n",
       "38309                    12.5                 2016            1   \n",
       "38310                     2.5                 2017            0   \n",
       "38311                     2.5                 2014            0   \n",
       "\n",
       "       Previous_Award  Training_score_average  No_of_previous_employers  \\\n",
       "0                   0                      41                         0   \n",
       "1                   0                      52                         0   \n",
       "2                   0                      42                         0   \n",
       "3                   0                      42                         1   \n",
       "4                   0                      77                         1   \n",
       "...               ...                     ...                       ...   \n",
       "38307               0                      70                         0   \n",
       "38308               0                      48                         1   \n",
       "38309               0                      71                         3   \n",
       "38310               0                      37                         1   \n",
       "38311               0                      41                         2   \n",
       "\n",
       "       Promoted_or_Not  ...  Division_Research and Innovation  \\\n",
       "0                    0  ...                                 0   \n",
       "1                    0  ...                                 0   \n",
       "2                    0  ...                                 0   \n",
       "3                    0  ...                                 0   \n",
       "4                    0  ...                                 0   \n",
       "...                ...  ...                               ...   \n",
       "38307                0  ...                                 0   \n",
       "38308                0  ...                                 0   \n",
       "38309                0  ...                                 0   \n",
       "38310                0  ...                                 0   \n",
       "38311                0  ...                                 0   \n",
       "\n",
       "       Division_Sourcing and Purchasing  Gender_Male  \\\n",
       "0                                     0            0   \n",
       "1                                     0            1   \n",
       "2                                     0            1   \n",
       "3                                     0            1   \n",
       "4                                     0            1   \n",
       "...                                 ...          ...   \n",
       "38307                                 0            0   \n",
       "38308                                 0            0   \n",
       "38309                                 0            1   \n",
       "38310                                 0            1   \n",
       "38311                                 0            1   \n",
       "\n",
       "       Channel_of_Recruitment_Direct Internal process  \\\n",
       "0                                                   1   \n",
       "1                                                   0   \n",
       "2                                                   1   \n",
       "3                                                   0   \n",
       "4                                                   1   \n",
       "...                                               ...   \n",
       "38307                                               1   \n",
       "38308                                               0   \n",
       "38309                                               0   \n",
       "38310                                               1   \n",
       "38311                                               0   \n",
       "\n",
       "       Channel_of_Recruitment_Referral and Special candidates  \\\n",
       "0                                                      0        \n",
       "1                                                      0        \n",
       "2                                                      0        \n",
       "3                                                      0        \n",
       "4                                                      0        \n",
       "...                                                  ...        \n",
       "38307                                                  0        \n",
       "38308                                                  0        \n",
       "38309                                                  0        \n",
       "38310                                                  0        \n",
       "38311                                                  0        \n",
       "\n",
       "       Foreign_schooled_Yes  Marital_Status_Not_Sure  Marital_Status_Single  \\\n",
       "0                         0                        0                      0   \n",
       "1                         1                        0                      0   \n",
       "2                         1                        0                      0   \n",
       "3                         1                        0                      1   \n",
       "4                         1                        0                      0   \n",
       "...                     ...                      ...                    ...   \n",
       "38307                     1                        0                      0   \n",
       "38308                     1                        0                      0   \n",
       "38309                     0                        0                      0   \n",
       "38310                     1                        0                      0   \n",
       "38311                     1                        0                      1   \n",
       "\n",
       "       Past_Disciplinary_Action_Yes  Previous_IntraDepartmental_Movement_Yes  \n",
       "0                                 0                                        0  \n",
       "1                                 0                                        0  \n",
       "2                                 0                                        0  \n",
       "3                                 0                                        0  \n",
       "4                                 0                                        0  \n",
       "...                             ...                                      ...  \n",
       "38307                             0                                        0  \n",
       "38308                             0                                        0  \n",
       "38309                             0                                        0  \n",
       "38310                             0                                        0  \n",
       "38311                             0                                        0  \n",
       "\n",
       "[37911 rows x 26 columns]"
      ]
     },
     "execution_count": 26,
     "metadata": {},
     "output_type": "execute_result"
    }
   ],
   "source": [
    "data"
   ]
  },
  {
   "cell_type": "code",
   "execution_count": 27,
   "id": "6df22123",
   "metadata": {},
   "outputs": [
    {
     "data": {
      "text/plain": [
       "<AxesSubplot:>"
      ]
     },
     "execution_count": 27,
     "metadata": {},
     "output_type": "execute_result"
    },
    {
     "data": {
      "image/png": "[encoded data removed]",
      "text/plain": [
       "<Figure size 1440x864 with 2 Axes>"
      ]
     },
     "metadata": {
      "needs_background": "light"
     },
     "output_type": "display_data"
    }
   ],
   "source": [
    "plt.figure(figsize=(20,12))\n",
    "sns.heatmap(data.corr(), annot=True, cmap='coolwarm')"
   ]
  },
  {
   "cell_type": "code",
   "execution_count": 28,
   "id": "efeae4f6",
   "metadata": {},
   "outputs": [
    {
     "name": "stdout",
     "output_type": "stream",
     "text": [
      "<class 'pandas.core.frame.DataFrame'>\n",
      "Int64Index: 37911 entries, 0 to 38311\n",
      "Data columns (total 26 columns):\n",
      " #   Column                                                  Non-Null Count  Dtype  \n",
      "---  ------                                                  --------------  -----  \n",
      " 0   Qualification                                           37911 non-null  int64  \n",
      " 1   Trainings_Attended                                      37911 non-null  int64  \n",
      " 2   Year_of_birth                                           37911 non-null  int64  \n",
      " 3   Last_performance_score                                  37911 non-null  float64\n",
      " 4   Year_of_recruitment                                     37911 non-null  int64  \n",
      " 5   Targets_met                                             37911 non-null  int64  \n",
      " 6   Previous_Award                                          37911 non-null  int64  \n",
      " 7   Training_score_average                                  37911 non-null  int64  \n",
      " 8   No_of_previous_employers                                37911 non-null  int32  \n",
      " 9   Promoted_or_Not                                         37911 non-null  int64  \n",
      " 10  Division_Commercial Sales and Marketing                 37911 non-null  uint8  \n",
      " 11  Division_Customer Support and Field Operations          37911 non-null  uint8  \n",
      " 12  Division_Information Technology and Solution Support    37911 non-null  uint8  \n",
      " 13  Division_Information and Strategy                       37911 non-null  uint8  \n",
      " 14  Division_People/HR Management                           37911 non-null  uint8  \n",
      " 15  Division_Regulatory and Legal services                  37911 non-null  uint8  \n",
      " 16  Division_Research and Innovation                        37911 non-null  uint8  \n",
      " 17  Division_Sourcing and Purchasing                        37911 non-null  uint8  \n",
      " 18  Gender_Male                                             37911 non-null  uint8  \n",
      " 19  Channel_of_Recruitment_Direct Internal process          37911 non-null  uint8  \n",
      " 20  Channel_of_Recruitment_Referral and Special candidates  37911 non-null  uint8  \n",
      " 21  Foreign_schooled_Yes                                    37911 non-null  uint8  \n",
      " 22  Marital_Status_Not_Sure                                 37911 non-null  uint8  \n",
      " 23  Marital_Status_Single                                   37911 non-null  uint8  \n",
      " 24  Past_Disciplinary_Action_Yes                            37911 non-null  uint8  \n",
      " 25  Previous_IntraDepartmental_Movement_Yes                 37911 non-null  uint8  \n",
      "dtypes: float64(1), int32(1), int64(8), uint8(16)\n",
      "memory usage: 3.6 MB\n"
     ]
    }
   ],
   "source": [
    "data.info()"
   ]
  },
  {
   "cell_type": "code",
   "execution_count": 29,
   "id": "57e74339",
   "metadata": {},
   "outputs": [],
   "source": [
    "X= data[['Targets_met', 'Previous_Award', 'Training_score_average', 'Last_performance_score']]"
   ]
  },
  {
   "cell_type": "code",
   "execution_count": 30,
   "id": "097effcb",
   "metadata": {},
   "outputs": [],
   "source": [
    "y= data['Promoted_or_Not']"
   ]
  },
  {
   "cell_type": "code",
   "execution_count": 31,
   "id": "ce065cdd",
   "metadata": {},
   "outputs": [],
   "source": [
    "X_train,X_test, y_train, y_test= train_test_split(X, y, test_size=0.3, random_state=42)"
   ]
  },
  {
   "cell_type": "code",
   "execution_count": 32,
   "id": "edd41db3",
   "metadata": {},
   "outputs": [
    {
     "data": {
      "text/html": [
       "<style>#sk-container-id-1 {color: black;background-color: white;}#sk-container-id-1 pre{padding: 0;}#sk-container-id-1 div.sk-toggleable {background-color: white;}#sk-container-id-1 label.sk-toggleable__label {cursor: pointer;display: block;width: 100%;margin-bottom: 0;padding: 0.3em;box-sizing: border-box;text-align: center;}#sk-container-id-1 label.sk-toggleable__label-arrow:before {content: \"▸\";float: left;margin-right: 0.25em;color: #696969;}#sk-container-id-1 label.sk-toggleable__label-arrow:hover:before {color: black;}#sk-container-id-1 div.sk-estimator:hover label.sk-toggleable__label-arrow:before {color: black;}#sk-container-id-1 div.sk-toggleable__content {max-height: 0;max-width: 0;overflow: hidden;text-align: left;background-color: #f0f8ff;}#sk-container-id-1 div.sk-toggleable__content pre {margin: 0.2em;color: black;border-radius: 0.25em;background-color: #f0f8ff;}#sk-container-id-1 input.sk-toggleable__control:checked~div.sk-toggleable__content {max-height: 200px;max-width: 100%;overflow: auto;}#sk-container-id-1 input.sk-toggleable__control:checked~label.sk-toggleable__label-arrow:before {content: \"▾\";}#sk-container-id-1 div.sk-estimator input.sk-toggleable__control:checked~label.sk-toggleable__label {background-color: #d4ebff;}#sk-container-id-1 div.sk-label input.sk-toggleable__control:checked~label.sk-toggleable__label {background-color: #d4ebff;}#sk-container-id-1 input.sk-hidden--visually {border: 0;clip: rect(1px 1px 1px 1px);clip: rect(1px, 1px, 1px, 1px);height: 1px;margin: -1px;overflow: hidden;padding: 0;position: absolute;width: 1px;}#sk-container-id-1 div.sk-estimator {font-family: monospace;background-color: #f0f8ff;border: 1px dotted black;border-radius: 0.25em;box-sizing: border-box;margin-bottom: 0.5em;}#sk-container-id-1 div.sk-estimator:hover {background-color: #d4ebff;}#sk-container-id-1 div.sk-parallel-item::after {content: \"\";width: 100%;border-bottom: 1px solid gray;flex-grow: 1;}#sk-container-id-1 div.sk-label:hover label.sk-toggleable__label {background-color: #d4ebff;}#sk-container-id-1 div.sk-serial::before {content: \"\";position: absolute;border-left: 1px solid gray;box-sizing: border-box;top: 0;bottom: 0;left: 50%;z-index: 0;}#sk-container-id-1 div.sk-serial {display: flex;flex-direction: column;align-items: center;background-color: white;padding-right: 0.2em;padding-left: 0.2em;position: relative;}#sk-container-id-1 div.sk-item {position: relative;z-index: 1;}#sk-container-id-1 div.sk-parallel {display: flex;align-items: stretch;justify-content: center;background-color: white;position: relative;}#sk-container-id-1 div.sk-item::before, #sk-container-id-1 div.sk-parallel-item::before {content: \"\";position: absolute;border-left: 1px solid gray;box-sizing: border-box;top: 0;bottom: 0;left: 50%;z-index: -1;}#sk-container-id-1 div.sk-parallel-item {display: flex;flex-direction: column;z-index: 1;position: relative;background-color: white;}#sk-container-id-1 div.sk-parallel-item:first-child::after {align-self: flex-end;width: 50%;}#sk-container-id-1 div.sk-parallel-item:last-child::after {align-self: flex-start;width: 50%;}#sk-container-id-1 div.sk-parallel-item:only-child::after {width: 0;}#sk-container-id-1 div.sk-dashed-wrapped {border: 1px dashed gray;margin: 0 0.4em 0.5em 0.4em;box-sizing: border-box;padding-bottom: 0.4em;background-color: white;}#sk-container-id-1 div.sk-label label {font-family: monospace;font-weight: bold;display: inline-block;line-height: 1.2em;}#sk-container-id-1 div.sk-label-container {text-align: center;}#sk-container-id-1 div.sk-container {/* jupyter's `normalize.less` sets `[hidden] { display: none; }` but bootstrap.min.css set `[hidden] { display: none !important; }` so we also need the `!important` here to be able to override the default hidden behavior on the sphinx rendered scikit-learn.org. See: https://github.com/scikit-learn/scikit-learn/issues/21755 */display: inline-block !important;position: relative;}#sk-container-id-1 div.sk-text-repr-fallback {display: none;}</style><div id=\"sk-container-id-1\" class=\"sk-top-container\"><div class=\"sk-text-repr-fallback\"><pre>RandomForestClassifier()</pre><b>In a Jupyter environment, please rerun this cell to show the HTML representation or trust the notebook. <br />On GitHub, the HTML representation is unable to render, please try loading this page with nbviewer.org.</b></div><div class=\"sk-container\" hidden><div class=\"sk-item\"><div class=\"sk-estimator sk-toggleable\"><input class=\"sk-toggleable__control sk-hidden--visually\" id=\"sk-estimator-id-1\" type=\"checkbox\" checked><label for=\"sk-estimator-id-1\" class=\"sk-toggleable__label sk-toggleable__label-arrow\">RandomForestClassifier</label><div class=\"sk-toggleable__content\"><pre>RandomForestClassifier()</pre></div></div></div></div></div>"
      ],
      "text/plain": [
       "RandomForestClassifier()"
      ]
     },
     "execution_count": 32,
     "metadata": {},
     "output_type": "execute_result"
    }
   ],
   "source": [
    "rfc= RandomForestClassifier()\n",
    "rfc.fit(X_train, y_train)"
   ]
  },
  {
   "cell_type": "code",
   "execution_count": 33,
   "id": "7bbcc8ab",
   "metadata": {},
   "outputs": [
    {
     "data": {
      "text/plain": [
       "0.9254439950764902"
      ]
     },
     "execution_count": 33,
     "metadata": {},
     "output_type": "execute_result"
    }
   ],
   "source": [
    "rfc.score(X_test, y_test)"
   ]
  },
  {
   "cell_type": "code",
   "execution_count": 34,
   "id": "d383e51b",
   "metadata": {},
   "outputs": [
    {
     "data": {
      "text/plain": [
       "0.9284395372498775"
      ]
     },
     "execution_count": 34,
     "metadata": {},
     "output_type": "execute_result"
    }
   ],
   "source": [
    "rfc.score(X_train, y_train)"
   ]
  },
  {
   "cell_type": "code",
   "execution_count": 35,
   "id": "7bbe42a9",
   "metadata": {},
   "outputs": [],
   "source": [
    "y_pred = rfc.predict(X_test)"
   ]
  },
  {
   "cell_type": "code",
   "execution_count": 36,
   "id": "12cb8f32",
   "metadata": {},
   "outputs": [
    {
     "name": "stdout",
     "output_type": "stream",
     "text": [
      "0.273972602739726\n"
     ]
    }
   ],
   "source": [
    "print(f1_score(y_test, y_pred))"
   ]
  },
  {
   "cell_type": "code",
   "execution_count": 37,
   "id": "3849df93",
   "metadata": {},
   "outputs": [
    {
     "name": "stdout",
     "output_type": "stream",
     "text": [
      "              precision    recall  f1-score   support\n",
      "\n",
      "           0       0.93      0.99      0.96     10453\n",
      "           1       0.65      0.17      0.27       921\n",
      "\n",
      "    accuracy                           0.93     11374\n",
      "   macro avg       0.79      0.58      0.62     11374\n",
      "weighted avg       0.91      0.93      0.91     11374\n",
      "\n"
     ]
    }
   ],
   "source": [
    "print(classification_report(y_test, rfc.predict(X_test)))"
   ]
  },
  {
   "cell_type": "code",
   "execution_count": 38,
   "id": "e5104a11",
   "metadata": {},
   "outputs": [],
   "source": [
    "    r_model= RandomForestClassifier()\n",
    "    x_model= XGBClassifier()"
   ]
  },
  {
   "cell_type": "code",
   "execution_count": 78,
   "id": "970414f3",
   "metadata": {},
   "outputs": [],
   "source": [
    "def model_predict(model, X_train=X_train, y_train=y_train, X_test=X_test):\n",
    "    model.fit(X_train, y_train)\n",
    "    pred = model.predict(X_test)\n",
    "    return pred"
   ]
  },
  {
   "cell_type": "code",
   "execution_count": 40,
   "id": "542743e9",
   "metadata": {},
   "outputs": [],
   "source": [
    "def model_pred(model, X_train=X_train, y_train=y_train, X_test=X_test, y_test=y_test):\n",
    "    model.fit(X_train, y_train)\n",
    "    pred = model.predict(X_test)\n",
    "    f1_sc = f1_score(y_test, pred)\n",
    "    class_report = classification_report(y_test, pred)\n",
    "    conf_matrix = confusion_matrix(y_test, pred)\n",
    "    return pred, f1_sc, class_report, conf_matrix"
   ]
  },
  {
   "cell_type": "code",
   "execution_count": 41,
   "id": "16b2304f",
   "metadata": {},
   "outputs": [],
   "source": [
    "x_pred= model_pred(x_model)"
   ]
  },
  {
   "cell_type": "code",
   "execution_count": 79,
   "id": "82372e07",
   "metadata": {},
   "outputs": [
    {
     "name": "stdout",
     "output_type": "stream",
     "text": [
      "              precision    recall  f1-score   support\n",
      "\n",
      "           0       0.93      0.99      0.96     10453\n",
      "           1       0.70      0.16      0.26       921\n",
      "\n",
      "    accuracy                           0.93     11374\n",
      "   macro avg       0.82      0.58      0.61     11374\n",
      "weighted avg       0.91      0.93      0.90     11374\n",
      "\n"
     ]
    }
   ],
   "source": [
    "print(x_pred[2])"
   ]
  },
  {
   "cell_type": "code",
   "execution_count": null,
   "id": "e00e24cc",
   "metadata": {},
   "outputs": [],
   "source": []
  },
  {
   "cell_type": "code",
   "execution_count": 43,
   "id": "59e8ae35",
   "metadata": {},
   "outputs": [],
   "source": [
    "r_pred= model_pred(r_model)"
   ]
  },
  {
   "cell_type": "code",
   "execution_count": 44,
   "id": "159a35c0",
   "metadata": {},
   "outputs": [
    {
     "name": "stdout",
     "output_type": "stream",
     "text": [
      "              precision    recall  f1-score   support\n",
      "\n",
      "           0       0.93      0.99      0.96     10453\n",
      "           1       0.67      0.16      0.26       921\n",
      "\n",
      "    accuracy                           0.93     11374\n",
      "   macro avg       0.80      0.58      0.61     11374\n",
      "weighted avg       0.91      0.93      0.90     11374\n",
      "\n"
     ]
    }
   ],
   "source": [
    "print(r_pred[2])"
   ]
  },
  {
   "cell_type": "markdown",
   "id": "5ae35206",
   "metadata": {},
   "source": [
    "## to handle class imbalance using models"
   ]
  },
  {
   "cell_type": "markdown",
   "id": "7524f5ce",
   "metadata": {},
   "source": [
    "Using class weights to balance dataset\n",
    "We can assign different weights to the majority and minority classes, according to their distribution, and modify our training algorithm so that it takes that information into account during the training phase.\n",
    "\n",
    "It will then penalize errors when the minority class is misclassified, in essence \"forcing\" the model to to better learn their features and patterns.\n",
    "\n",
    "To use weighted classes, we have to retrain our model using the original train set, but this time telling the algorithm to use weights when calculating errors:"
   ]
  },
  {
   "cell_type": "code",
   "execution_count": null,
   "id": "208af8a6",
   "metadata": {},
   "outputs": [],
   "source": [
    "# Import function used in calculating weights\n",
    "from sklearn.utils import class_weight"
   ]
  },
  {
   "cell_type": "code",
   "execution_count": 45,
   "id": "8a49b2c2",
   "metadata": {},
   "outputs": [],
   "source": [
    "rfc_b= RandomForestClassifier(class_weight= 'balanced')\n",
    "xgb_b = XGBClassifier(class_weight= 'balanced')"
   ]
  },
  {
   "cell_type": "code",
   "execution_count": null,
   "id": "d04635b0",
   "metadata": {},
   "outputs": [],
   "source": []
  },
  {
   "cell_type": "code",
   "execution_count": 46,
   "id": "8cb945f9",
   "metadata": {},
   "outputs": [],
   "source": [
    "from imblearn.over_sampling import SMOTE"
   ]
  },
  {
   "cell_type": "code",
   "execution_count": 47,
   "id": "3772e13b",
   "metadata": {},
   "outputs": [
    {
     "data": {
      "text/plain": [
       "0    24248\n",
       "1     2289\n",
       "Name: Promoted_or_Not, dtype: int64"
      ]
     },
     "execution_count": 47,
     "metadata": {},
     "output_type": "execute_result"
    }
   ],
   "source": [
    "y_train.value_counts()"
   ]
  },
  {
   "cell_type": "markdown",
   "id": "275e35bb",
   "metadata": {},
   "source": [
    "Resampling the dataset"
   ]
  },
  {
   "cell_type": "code",
   "execution_count": 48,
   "id": "7bb121fe",
   "metadata": {},
   "outputs": [],
   "source": [
    "upsampler = SMOTE(sampling_strategy=0.8, random_state= 1)"
   ]
  },
  {
   "cell_type": "code",
   "execution_count": 49,
   "id": "fc577faa",
   "metadata": {},
   "outputs": [],
   "source": [
    "X_resampled, y_resampled = upsampler.fit_resample(X_train, y_train)"
   ]
  },
  {
   "cell_type": "code",
   "execution_count": 50,
   "id": "7d375c17",
   "metadata": {},
   "outputs": [
    {
     "data": {
      "text/plain": [
       "0    24248\n",
       "1    19398\n",
       "Name: Promoted_or_Not, dtype: int64"
      ]
     },
     "execution_count": 50,
     "metadata": {},
     "output_type": "execute_result"
    }
   ],
   "source": [
    "y_resampled.value_counts()"
   ]
  },
  {
   "cell_type": "code",
   "execution_count": 51,
   "id": "80a883bc",
   "metadata": {},
   "outputs": [],
   "source": [
    "from sklearn.ensemble import RandomForestClassifier"
   ]
  },
  {
   "cell_type": "code",
   "execution_count": 52,
   "id": "42594f00",
   "metadata": {},
   "outputs": [],
   "source": [
    "rfc = RandomForestClassifier()"
   ]
  },
  {
   "cell_type": "code",
   "execution_count": 53,
   "id": "e5503433",
   "metadata": {},
   "outputs": [
    {
     "data": {
      "text/html": [
       "<style>#sk-container-id-2 {color: black;background-color: white;}#sk-container-id-2 pre{padding: 0;}#sk-container-id-2 div.sk-toggleable {background-color: white;}#sk-container-id-2 label.sk-toggleable__label {cursor: pointer;display: block;width: 100%;margin-bottom: 0;padding: 0.3em;box-sizing: border-box;text-align: center;}#sk-container-id-2 label.sk-toggleable__label-arrow:before {content: \"▸\";float: left;margin-right: 0.25em;color: #696969;}#sk-container-id-2 label.sk-toggleable__label-arrow:hover:before {color: black;}#sk-container-id-2 div.sk-estimator:hover label.sk-toggleable__label-arrow:before {color: black;}#sk-container-id-2 div.sk-toggleable__content {max-height: 0;max-width: 0;overflow: hidden;text-align: left;background-color: #f0f8ff;}#sk-container-id-2 div.sk-toggleable__content pre {margin: 0.2em;color: black;border-radius: 0.25em;background-color: #f0f8ff;}#sk-container-id-2 input.sk-toggleable__control:checked~div.sk-toggleable__content {max-height: 200px;max-width: 100%;overflow: auto;}#sk-container-id-2 input.sk-toggleable__control:checked~label.sk-toggleable__label-arrow:before {content: \"▾\";}#sk-container-id-2 div.sk-estimator input.sk-toggleable__control:checked~label.sk-toggleable__label {background-color: #d4ebff;}#sk-container-id-2 div.sk-label input.sk-toggleable__control:checked~label.sk-toggleable__label {background-color: #d4ebff;}#sk-container-id-2 input.sk-hidden--visually {border: 0;clip: rect(1px 1px 1px 1px);clip: rect(1px, 1px, 1px, 1px);height: 1px;margin: -1px;overflow: hidden;padding: 0;position: absolute;width: 1px;}#sk-container-id-2 div.sk-estimator {font-family: monospace;background-color: #f0f8ff;border: 1px dotted black;border-radius: 0.25em;box-sizing: border-box;margin-bottom: 0.5em;}#sk-container-id-2 div.sk-estimator:hover {background-color: #d4ebff;}#sk-container-id-2 div.sk-parallel-item::after {content: \"\";width: 100%;border-bottom: 1px solid gray;flex-grow: 1;}#sk-container-id-2 div.sk-label:hover label.sk-toggleable__label {background-color: #d4ebff;}#sk-container-id-2 div.sk-serial::before {content: \"\";position: absolute;border-left: 1px solid gray;box-sizing: border-box;top: 0;bottom: 0;left: 50%;z-index: 0;}#sk-container-id-2 div.sk-serial {display: flex;flex-direction: column;align-items: center;background-color: white;padding-right: 0.2em;padding-left: 0.2em;position: relative;}#sk-container-id-2 div.sk-item {position: relative;z-index: 1;}#sk-container-id-2 div.sk-parallel {display: flex;align-items: stretch;justify-content: center;background-color: white;position: relative;}#sk-container-id-2 div.sk-item::before, #sk-container-id-2 div.sk-parallel-item::before {content: \"\";position: absolute;border-left: 1px solid gray;box-sizing: border-box;top: 0;bottom: 0;left: 50%;z-index: -1;}#sk-container-id-2 div.sk-parallel-item {display: flex;flex-direction: column;z-index: 1;position: relative;background-color: white;}#sk-container-id-2 div.sk-parallel-item:first-child::after {align-self: flex-end;width: 50%;}#sk-container-id-2 div.sk-parallel-item:last-child::after {align-self: flex-start;width: 50%;}#sk-container-id-2 div.sk-parallel-item:only-child::after {width: 0;}#sk-container-id-2 div.sk-dashed-wrapped {border: 1px dashed gray;margin: 0 0.4em 0.5em 0.4em;box-sizing: border-box;padding-bottom: 0.4em;background-color: white;}#sk-container-id-2 div.sk-label label {font-family: monospace;font-weight: bold;display: inline-block;line-height: 1.2em;}#sk-container-id-2 div.sk-label-container {text-align: center;}#sk-container-id-2 div.sk-container {/* jupyter's `normalize.less` sets `[hidden] { display: none; }` but bootstrap.min.css set `[hidden] { display: none !important; }` so we also need the `!important` here to be able to override the default hidden behavior on the sphinx rendered scikit-learn.org. See: https://github.com/scikit-learn/scikit-learn/issues/21755 */display: inline-block !important;position: relative;}#sk-container-id-2 div.sk-text-repr-fallback {display: none;}</style><div id=\"sk-container-id-2\" class=\"sk-top-container\"><div class=\"sk-text-repr-fallback\"><pre>RandomForestClassifier()</pre><b>In a Jupyter environment, please rerun this cell to show the HTML representation or trust the notebook. <br />On GitHub, the HTML representation is unable to render, please try loading this page with nbviewer.org.</b></div><div class=\"sk-container\" hidden><div class=\"sk-item\"><div class=\"sk-estimator sk-toggleable\"><input class=\"sk-toggleable__control sk-hidden--visually\" id=\"sk-estimator-id-2\" type=\"checkbox\" checked><label for=\"sk-estimator-id-2\" class=\"sk-toggleable__label sk-toggleable__label-arrow\">RandomForestClassifier</label><div class=\"sk-toggleable__content\"><pre>RandomForestClassifier()</pre></div></div></div></div></div>"
      ],
      "text/plain": [
       "RandomForestClassifier()"
      ]
     },
     "execution_count": 53,
     "metadata": {},
     "output_type": "execute_result"
    }
   ],
   "source": [
    "rfc.fit(X_resampled, y_resampled)"
   ]
  },
  {
   "cell_type": "code",
   "execution_count": 54,
   "id": "65bf39c0",
   "metadata": {},
   "outputs": [],
   "source": [
    "y_pred = rfc.predict(X_test)"
   ]
  },
  {
   "cell_type": "code",
   "execution_count": 55,
   "id": "45ae4f67",
   "metadata": {},
   "outputs": [],
   "source": [
    "y_b_pred= rfc.predict(X_test)"
   ]
  },
  {
   "cell_type": "code",
   "execution_count": 56,
   "id": "c42b2c5a",
   "metadata": {},
   "outputs": [
    {
     "name": "stdout",
     "output_type": "stream",
     "text": [
      "              precision    recall  f1-score   support\n",
      "\n",
      "           0       0.97      0.72      0.82     10453\n",
      "           1       0.18      0.72      0.29       921\n",
      "\n",
      "    accuracy                           0.72     11374\n",
      "   macro avg       0.58      0.72      0.56     11374\n",
      "weighted avg       0.90      0.72      0.78     11374\n",
      "\n"
     ]
    }
   ],
   "source": [
    "print(classification_report(y_test, y_b_pred))"
   ]
  },
  {
   "cell_type": "code",
   "execution_count": null,
   "id": "8e7e1954",
   "metadata": {},
   "outputs": [],
   "source": []
  },
  {
   "cell_type": "markdown",
   "id": "936c57d3",
   "metadata": {},
   "source": [
    "## predicting on Test Dataset"
   ]
  },
  {
   "cell_type": "code",
   "execution_count": 57,
   "id": "f95ebfba",
   "metadata": {},
   "outputs": [],
   "source": [
    "def model_pred(model, X_train=X_train, y_train=y_train, X_test=X_test):\n",
    "    model.fit(X_train, y_train)\n",
    "    pred = model.predict(X_test)\n",
    "    return pred"
   ]
  },
  {
   "cell_type": "code",
   "execution_count": 58,
   "id": "76c07926",
   "metadata": {},
   "outputs": [
    {
     "name": "stdout",
     "output_type": "stream",
     "text": [
      "<class 'pandas.core.frame.DataFrame'>\n",
      "RangeIndex: 16496 entries, 0 to 16495\n",
      "Data columns (total 18 columns):\n",
      " #   Column                               Non-Null Count  Dtype  \n",
      "---  ------                               --------------  -----  \n",
      " 0   EmployeeNo                           16496 non-null  object \n",
      " 1   Division                             16496 non-null  object \n",
      " 2   Qualification                        15766 non-null  object \n",
      " 3   Gender                               16496 non-null  object \n",
      " 4   Channel_of_Recruitment               16496 non-null  object \n",
      " 5   Trainings_Attended                   16496 non-null  int64  \n",
      " 6   Year_of_birth                        16496 non-null  int64  \n",
      " 7   Last_performance_score               16496 non-null  float64\n",
      " 8   Year_of_recruitment                  16496 non-null  int64  \n",
      " 9   Targets_met                          16496 non-null  int64  \n",
      " 10  Previous_Award                       16496 non-null  int64  \n",
      " 11  Training_score_average               16496 non-null  int64  \n",
      " 12  State_Of_Origin                      16496 non-null  object \n",
      " 13  Foreign_schooled                     16496 non-null  object \n",
      " 14  Marital_Status                       16496 non-null  object \n",
      " 15  Past_Disciplinary_Action             16496 non-null  object \n",
      " 16  Previous_IntraDepartmental_Movement  16496 non-null  object \n",
      " 17  No_of_previous_employers             16496 non-null  object \n",
      "dtypes: float64(1), int64(6), object(11)\n",
      "memory usage: 2.3+ MB\n"
     ]
    }
   ],
   "source": [
    "df_test.info()"
   ]
  },
  {
   "cell_type": "code",
   "execution_count": 59,
   "id": "ecf7818a",
   "metadata": {},
   "outputs": [],
   "source": [
    "x_val =df_test[['Targets_met', 'Previous_Award', 'Training_score_average', 'Last_performance_score']] "
   ]
  },
  {
   "cell_type": "code",
   "execution_count": 60,
   "id": "5de32a87",
   "metadata": {},
   "outputs": [
    {
     "data": {
      "text/html": [
       "<div>\n",
       "<style scoped>\n",
       "    .dataframe tbody tr th:only-of-type {\n",
       "        vertical-align: middle;\n",
       "    }\n",
       "\n",
       "    .dataframe tbody tr th {\n",
       "        vertical-align: top;\n",
       "    }\n",
       "\n",
       "    .dataframe thead th {\n",
       "        text-align: right;\n",
       "    }\n",
       "</style>\n",
       "<table border=\"1\" class=\"dataframe\">\n",
       "  <thead>\n",
       "    <tr style=\"text-align: right;\">\n",
       "      <th></th>\n",
       "      <th>Targets_met</th>\n",
       "      <th>Previous_Award</th>\n",
       "      <th>Training_score_average</th>\n",
       "      <th>Last_performance_score</th>\n",
       "    </tr>\n",
       "  </thead>\n",
       "  <tbody>\n",
       "    <tr>\n",
       "      <th>0</th>\n",
       "      <td>0</td>\n",
       "      <td>0</td>\n",
       "      <td>65</td>\n",
       "      <td>7.5</td>\n",
       "    </tr>\n",
       "    <tr>\n",
       "      <th>1</th>\n",
       "      <td>0</td>\n",
       "      <td>0</td>\n",
       "      <td>69</td>\n",
       "      <td>0.0</td>\n",
       "    </tr>\n",
       "    <tr>\n",
       "      <th>2</th>\n",
       "      <td>0</td>\n",
       "      <td>0</td>\n",
       "      <td>76</td>\n",
       "      <td>7.5</td>\n",
       "    </tr>\n",
       "    <tr>\n",
       "      <th>3</th>\n",
       "      <td>0</td>\n",
       "      <td>0</td>\n",
       "      <td>52</td>\n",
       "      <td>2.5</td>\n",
       "    </tr>\n",
       "    <tr>\n",
       "      <th>4</th>\n",
       "      <td>1</td>\n",
       "      <td>0</td>\n",
       "      <td>69</td>\n",
       "      <td>7.5</td>\n",
       "    </tr>\n",
       "  </tbody>\n",
       "</table>\n",
       "</div>"
      ],
      "text/plain": [
       "   Targets_met  Previous_Award  Training_score_average  Last_performance_score\n",
       "0            0               0                      65                     7.5\n",
       "1            0               0                      69                     0.0\n",
       "2            0               0                      76                     7.5\n",
       "3            0               0                      52                     2.5\n",
       "4            1               0                      69                     7.5"
      ]
     },
     "execution_count": 60,
     "metadata": {},
     "output_type": "execute_result"
    }
   ],
   "source": [
    "x_val.head()"
   ]
  },
  {
   "cell_type": "code",
   "execution_count": 61,
   "id": "9b47ae29",
   "metadata": {},
   "outputs": [
    {
     "name": "stdout",
     "output_type": "stream",
     "text": [
      "[11:25:35] WARNING: C:/buildkite-agent/builds/buildkite-windows-cpu-autoscaling-group-i-03de431ba26204c4d-1/xgboost/xgboost-ci-windows/src/learner.cc:767: \n",
      "Parameters: { \"class_weight\" } are not used.\n",
      "\n"
     ]
    },
    {
     "data": {
      "text/plain": [
       "array([0, 0, 0, ..., 0, 0, 0])"
      ]
     },
     "execution_count": 61,
     "metadata": {},
     "output_type": "execute_result"
    }
   ],
   "source": [
    "predictions= model_pred(xgb_b, X_test= x_val)\n",
    "predictions"
   ]
  },
  {
   "cell_type": "code",
   "execution_count": 62,
   "id": "f3a974e6",
   "metadata": {},
   "outputs": [],
   "source": [
    "df_test['Promoted_or_not']= predictions"
   ]
  },
  {
   "cell_type": "code",
   "execution_count": 63,
   "id": "f2bf4df4",
   "metadata": {},
   "outputs": [
    {
     "data": {
      "text/html": [
       "<div>\n",
       "<style scoped>\n",
       "    .dataframe tbody tr th:only-of-type {\n",
       "        vertical-align: middle;\n",
       "    }\n",
       "\n",
       "    .dataframe tbody tr th {\n",
       "        vertical-align: top;\n",
       "    }\n",
       "\n",
       "    .dataframe thead th {\n",
       "        text-align: right;\n",
       "    }\n",
       "</style>\n",
       "<table border=\"1\" class=\"dataframe\">\n",
       "  <thead>\n",
       "    <tr style=\"text-align: right;\">\n",
       "      <th></th>\n",
       "      <th>EmployeeNo</th>\n",
       "      <th>Division</th>\n",
       "      <th>Qualification</th>\n",
       "      <th>Gender</th>\n",
       "      <th>Channel_of_Recruitment</th>\n",
       "      <th>Trainings_Attended</th>\n",
       "      <th>Year_of_birth</th>\n",
       "      <th>Last_performance_score</th>\n",
       "      <th>Year_of_recruitment</th>\n",
       "      <th>Targets_met</th>\n",
       "      <th>Previous_Award</th>\n",
       "      <th>Training_score_average</th>\n",
       "      <th>State_Of_Origin</th>\n",
       "      <th>Foreign_schooled</th>\n",
       "      <th>Marital_Status</th>\n",
       "      <th>Past_Disciplinary_Action</th>\n",
       "      <th>Previous_IntraDepartmental_Movement</th>\n",
       "      <th>No_of_previous_employers</th>\n",
       "      <th>Promoted_or_not</th>\n",
       "    </tr>\n",
       "  </thead>\n",
       "  <tbody>\n",
       "    <tr>\n",
       "      <th>0</th>\n",
       "      <td>YAK/S/00005</td>\n",
       "      <td>Information Technology and Solution Support</td>\n",
       "      <td>First Degree or HND</td>\n",
       "      <td>Male</td>\n",
       "      <td>Agency and others</td>\n",
       "      <td>2</td>\n",
       "      <td>1976</td>\n",
       "      <td>7.5</td>\n",
       "      <td>2017</td>\n",
       "      <td>0</td>\n",
       "      <td>0</td>\n",
       "      <td>65</td>\n",
       "      <td>FCT</td>\n",
       "      <td>Yes</td>\n",
       "      <td>Married</td>\n",
       "      <td>No</td>\n",
       "      <td>No</td>\n",
       "      <td>1</td>\n",
       "      <td>0</td>\n",
       "    </tr>\n",
       "    <tr>\n",
       "      <th>1</th>\n",
       "      <td>YAK/S/00011</td>\n",
       "      <td>Information Technology and Solution Support</td>\n",
       "      <td>NaN</td>\n",
       "      <td>Male</td>\n",
       "      <td>Direct Internal process</td>\n",
       "      <td>2</td>\n",
       "      <td>1991</td>\n",
       "      <td>0.0</td>\n",
       "      <td>2018</td>\n",
       "      <td>0</td>\n",
       "      <td>0</td>\n",
       "      <td>69</td>\n",
       "      <td>OGUN</td>\n",
       "      <td>Yes</td>\n",
       "      <td>Married</td>\n",
       "      <td>No</td>\n",
       "      <td>No</td>\n",
       "      <td>1</td>\n",
       "      <td>0</td>\n",
       "    </tr>\n",
       "    <tr>\n",
       "      <th>2</th>\n",
       "      <td>YAK/S/00015</td>\n",
       "      <td>Research and Innovation</td>\n",
       "      <td>MSc, MBA and PhD</td>\n",
       "      <td>Male</td>\n",
       "      <td>Direct Internal process</td>\n",
       "      <td>2</td>\n",
       "      <td>1984</td>\n",
       "      <td>7.5</td>\n",
       "      <td>2012</td>\n",
       "      <td>0</td>\n",
       "      <td>0</td>\n",
       "      <td>76</td>\n",
       "      <td>KANO</td>\n",
       "      <td>Yes</td>\n",
       "      <td>Married</td>\n",
       "      <td>No</td>\n",
       "      <td>No</td>\n",
       "      <td>1</td>\n",
       "      <td>0</td>\n",
       "    </tr>\n",
       "    <tr>\n",
       "      <th>3</th>\n",
       "      <td>YAK/S/00016</td>\n",
       "      <td>Customer Support and Field Operations</td>\n",
       "      <td>First Degree or HND</td>\n",
       "      <td>Male</td>\n",
       "      <td>Agency and others</td>\n",
       "      <td>2</td>\n",
       "      <td>1984</td>\n",
       "      <td>2.5</td>\n",
       "      <td>2009</td>\n",
       "      <td>0</td>\n",
       "      <td>0</td>\n",
       "      <td>52</td>\n",
       "      <td>RIVERS</td>\n",
       "      <td>No</td>\n",
       "      <td>Single</td>\n",
       "      <td>No</td>\n",
       "      <td>No</td>\n",
       "      <td>1</td>\n",
       "      <td>0</td>\n",
       "    </tr>\n",
       "    <tr>\n",
       "      <th>4</th>\n",
       "      <td>YAK/S/00017</td>\n",
       "      <td>Information Technology and Solution Support</td>\n",
       "      <td>First Degree or HND</td>\n",
       "      <td>Male</td>\n",
       "      <td>Agency and others</td>\n",
       "      <td>2</td>\n",
       "      <td>1983</td>\n",
       "      <td>7.5</td>\n",
       "      <td>2014</td>\n",
       "      <td>1</td>\n",
       "      <td>0</td>\n",
       "      <td>69</td>\n",
       "      <td>FCT</td>\n",
       "      <td>Yes</td>\n",
       "      <td>Married</td>\n",
       "      <td>No</td>\n",
       "      <td>No</td>\n",
       "      <td>0</td>\n",
       "      <td>0</td>\n",
       "    </tr>\n",
       "  </tbody>\n",
       "</table>\n",
       "</div>"
      ],
      "text/plain": [
       "    EmployeeNo                                     Division  \\\n",
       "0  YAK/S/00005  Information Technology and Solution Support   \n",
       "1  YAK/S/00011  Information Technology and Solution Support   \n",
       "2  YAK/S/00015                      Research and Innovation   \n",
       "3  YAK/S/00016        Customer Support and Field Operations   \n",
       "4  YAK/S/00017  Information Technology and Solution Support   \n",
       "\n",
       "         Qualification Gender   Channel_of_Recruitment  Trainings_Attended  \\\n",
       "0  First Degree or HND   Male        Agency and others                   2   \n",
       "1                  NaN   Male  Direct Internal process                   2   \n",
       "2     MSc, MBA and PhD   Male  Direct Internal process                   2   \n",
       "3  First Degree or HND   Male        Agency and others                   2   \n",
       "4  First Degree or HND   Male        Agency and others                   2   \n",
       "\n",
       "   Year_of_birth  Last_performance_score  Year_of_recruitment  Targets_met  \\\n",
       "0           1976                     7.5                 2017            0   \n",
       "1           1991                     0.0                 2018            0   \n",
       "2           1984                     7.5                 2012            0   \n",
       "3           1984                     2.5                 2009            0   \n",
       "4           1983                     7.5                 2014            1   \n",
       "\n",
       "   Previous_Award  Training_score_average State_Of_Origin Foreign_schooled  \\\n",
       "0               0                      65             FCT              Yes   \n",
       "1               0                      69            OGUN              Yes   \n",
       "2               0                      76            KANO              Yes   \n",
       "3               0                      52          RIVERS               No   \n",
       "4               0                      69             FCT              Yes   \n",
       "\n",
       "  Marital_Status Past_Disciplinary_Action Previous_IntraDepartmental_Movement  \\\n",
       "0        Married                       No                                  No   \n",
       "1        Married                       No                                  No   \n",
       "2        Married                       No                                  No   \n",
       "3         Single                       No                                  No   \n",
       "4        Married                       No                                  No   \n",
       "\n",
       "  No_of_previous_employers  Promoted_or_not  \n",
       "0                        1                0  \n",
       "1                        1                0  \n",
       "2                        1                0  \n",
       "3                        1                0  \n",
       "4                        0                0  "
      ]
     },
     "execution_count": 63,
     "metadata": {},
     "output_type": "execute_result"
    }
   ],
   "source": [
    "df_test.head()"
   ]
  },
  {
   "cell_type": "code",
   "execution_count": 64,
   "id": "04a50bc9",
   "metadata": {},
   "outputs": [
    {
     "data": {
      "text/plain": [
       "0    16210\n",
       "1      286\n",
       "Name: Promoted_or_not, dtype: int64"
      ]
     },
     "execution_count": 64,
     "metadata": {},
     "output_type": "execute_result"
    }
   ],
   "source": [
    "df_test['Promoted_or_not'].value_counts()"
   ]
  },
  {
   "cell_type": "code",
   "execution_count": 65,
   "id": "fd31e92d",
   "metadata": {},
   "outputs": [],
   "source": [
    "submission = df_test[['EmployeeNo', 'Promoted_or_not']]"
   ]
  },
  {
   "cell_type": "code",
   "execution_count": 66,
   "id": "a7bc05c5",
   "metadata": {},
   "outputs": [
    {
     "data": {
      "text/html": [
       "<div>\n",
       "<style scoped>\n",
       "    .dataframe tbody tr th:only-of-type {\n",
       "        vertical-align: middle;\n",
       "    }\n",
       "\n",
       "    .dataframe tbody tr th {\n",
       "        vertical-align: top;\n",
       "    }\n",
       "\n",
       "    .dataframe thead th {\n",
       "        text-align: right;\n",
       "    }\n",
       "</style>\n",
       "<table border=\"1\" class=\"dataframe\">\n",
       "  <thead>\n",
       "    <tr style=\"text-align: right;\">\n",
       "      <th></th>\n",
       "      <th>EmployeeNo</th>\n",
       "      <th>Promoted_or_not</th>\n",
       "    </tr>\n",
       "  </thead>\n",
       "  <tbody>\n",
       "    <tr>\n",
       "      <th>0</th>\n",
       "      <td>YAK/S/00005</td>\n",
       "      <td>0</td>\n",
       "    </tr>\n",
       "    <tr>\n",
       "      <th>1</th>\n",
       "      <td>YAK/S/00011</td>\n",
       "      <td>0</td>\n",
       "    </tr>\n",
       "    <tr>\n",
       "      <th>2</th>\n",
       "      <td>YAK/S/00015</td>\n",
       "      <td>0</td>\n",
       "    </tr>\n",
       "    <tr>\n",
       "      <th>3</th>\n",
       "      <td>YAK/S/00016</td>\n",
       "      <td>0</td>\n",
       "    </tr>\n",
       "    <tr>\n",
       "      <th>4</th>\n",
       "      <td>YAK/S/00017</td>\n",
       "      <td>0</td>\n",
       "    </tr>\n",
       "  </tbody>\n",
       "</table>\n",
       "</div>"
      ],
      "text/plain": [
       "    EmployeeNo  Promoted_or_not\n",
       "0  YAK/S/00005                0\n",
       "1  YAK/S/00011                0\n",
       "2  YAK/S/00015                0\n",
       "3  YAK/S/00016                0\n",
       "4  YAK/S/00017                0"
      ]
     },
     "execution_count": 66,
     "metadata": {},
     "output_type": "execute_result"
    }
   ],
   "source": [
    "submission.head()"
   ]
  },
  {
   "cell_type": "code",
   "execution_count": 68,
   "id": "23801307",
   "metadata": {},
   "outputs": [],
   "source": [
    "submission.to_csv('submission_Xgb.csv', index= False)"
   ]
  },
  {
   "cell_type": "markdown",
   "id": "79a87a47",
   "metadata": {},
   "source": [
    "## HyperParameter Tuning"
   ]
  },
  {
   "cell_type": "code",
   "execution_count": 70,
   "id": "c371f225",
   "metadata": {},
   "outputs": [],
   "source": [
    "from sklearn.model_selection import GridSearchCV"
   ]
  },
  {
   "cell_type": "code",
   "execution_count": 71,
   "id": "67cd3f27",
   "metadata": {},
   "outputs": [],
   "source": [
    "param_grid = {'n_estimators':[200, 500, 1000], \n",
    "              'max_depth':np.arange(5,10,2),\n",
    "              'learning_rate':[0.01, 0.1],\n",
    "              'min_child_weight': np.arange(1, 6, 5)} "
   ]
  },
  {
   "cell_type": "code",
   "execution_count": 74,
   "id": "542f4974",
   "metadata": {},
   "outputs": [],
   "source": [
    "grid= GridSearchCV(x_model, param_grid=param_grid, verbose= 3)"
   ]
  },
  {
   "cell_type": "code",
   "execution_count": 75,
   "id": "9f929a87",
   "metadata": {},
   "outputs": [
    {
     "name": "stdout",
     "output_type": "stream",
     "text": [
      "Fitting 5 folds for each of 18 candidates, totalling 90 fits\n",
      "[CV 1/5] END learning_rate=0.01, max_depth=5, min_child_weight=1, n_estimators=200;, score=0.926 total time=   2.0s\n",
      "[CV 2/5] END learning_rate=0.01, max_depth=5, min_child_weight=1, n_estimators=200;, score=0.927 total time=   2.0s\n",
      "[CV 3/5] END learning_rate=0.01, max_depth=5, min_child_weight=1, n_estimators=200;, score=0.925 total time=   1.9s\n",
      "[CV 4/5] END learning_rate=0.01, max_depth=5, min_child_weight=1, n_estimators=200;, score=0.924 total time=   1.9s\n",
      "[CV 5/5] END learning_rate=0.01, max_depth=5, min_child_weight=1, n_estimators=200;, score=0.924 total time=   1.7s\n",
      "[CV 1/5] END learning_rate=0.01, max_depth=5, min_child_weight=1, n_estimators=500;, score=0.926 total time=   5.0s\n",
      "[CV 2/5] END learning_rate=0.01, max_depth=5, min_child_weight=1, n_estimators=500;, score=0.926 total time=   4.8s\n",
      "[CV 3/5] END learning_rate=0.01, max_depth=5, min_child_weight=1, n_estimators=500;, score=0.924 total time=   4.8s\n",
      "[CV 4/5] END learning_rate=0.01, max_depth=5, min_child_weight=1, n_estimators=500;, score=0.925 total time=   4.7s\n",
      "[CV 5/5] END learning_rate=0.01, max_depth=5, min_child_weight=1, n_estimators=500;, score=0.924 total time=   5.9s\n",
      "[CV 1/5] END learning_rate=0.01, max_depth=5, min_child_weight=1, n_estimators=1000;, score=0.926 total time=  10.9s\n",
      "[CV 2/5] END learning_rate=0.01, max_depth=5, min_child_weight=1, n_estimators=1000;, score=0.927 total time=   9.9s\n",
      "[CV 3/5] END learning_rate=0.01, max_depth=5, min_child_weight=1, n_estimators=1000;, score=0.924 total time=   9.0s\n",
      "[CV 4/5] END learning_rate=0.01, max_depth=5, min_child_weight=1, n_estimators=1000;, score=0.925 total time=   9.1s\n",
      "[CV 5/5] END learning_rate=0.01, max_depth=5, min_child_weight=1, n_estimators=1000;, score=0.924 total time=   8.9s\n",
      "[CV 1/5] END learning_rate=0.01, max_depth=7, min_child_weight=1, n_estimators=200;, score=0.926 total time=   2.7s\n",
      "[CV 2/5] END learning_rate=0.01, max_depth=7, min_child_weight=1, n_estimators=200;, score=0.926 total time=   3.0s\n",
      "[CV 3/5] END learning_rate=0.01, max_depth=7, min_child_weight=1, n_estimators=200;, score=0.925 total time=   3.0s\n",
      "[CV 4/5] END learning_rate=0.01, max_depth=7, min_child_weight=1, n_estimators=200;, score=0.924 total time=   2.4s\n",
      "[CV 5/5] END learning_rate=0.01, max_depth=7, min_child_weight=1, n_estimators=200;, score=0.924 total time=   3.3s\n",
      "[CV 1/5] END learning_rate=0.01, max_depth=7, min_child_weight=1, n_estimators=500;, score=0.925 total time=   8.5s\n",
      "[CV 2/5] END learning_rate=0.01, max_depth=7, min_child_weight=1, n_estimators=500;, score=0.925 total time=   6.8s\n",
      "[CV 3/5] END learning_rate=0.01, max_depth=7, min_child_weight=1, n_estimators=500;, score=0.924 total time=   6.6s\n",
      "[CV 4/5] END learning_rate=0.01, max_depth=7, min_child_weight=1, n_estimators=500;, score=0.925 total time=   6.8s\n",
      "[CV 5/5] END learning_rate=0.01, max_depth=7, min_child_weight=1, n_estimators=500;, score=0.924 total time=   6.8s\n",
      "[CV 1/5] END learning_rate=0.01, max_depth=7, min_child_weight=1, n_estimators=1000;, score=0.925 total time=  13.3s\n",
      "[CV 2/5] END learning_rate=0.01, max_depth=7, min_child_weight=1, n_estimators=1000;, score=0.925 total time=  15.0s\n",
      "[CV 3/5] END learning_rate=0.01, max_depth=7, min_child_weight=1, n_estimators=1000;, score=0.924 total time=  22.1s\n",
      "[CV 4/5] END learning_rate=0.01, max_depth=7, min_child_weight=1, n_estimators=1000;, score=0.924 total time=  17.0s\n",
      "[CV 5/5] END learning_rate=0.01, max_depth=7, min_child_weight=1, n_estimators=1000;, score=0.923 total time=  10.1s\n",
      "[CV 1/5] END learning_rate=0.01, max_depth=9, min_child_weight=1, n_estimators=200;, score=0.926 total time=   3.9s\n",
      "[CV 2/5] END learning_rate=0.01, max_depth=9, min_child_weight=1, n_estimators=200;, score=0.925 total time=   2.5s\n",
      "[CV 3/5] END learning_rate=0.01, max_depth=9, min_child_weight=1, n_estimators=200;, score=0.924 total time=   4.0s\n",
      "[CV 4/5] END learning_rate=0.01, max_depth=9, min_child_weight=1, n_estimators=200;, score=0.923 total time=   2.2s\n",
      "[CV 5/5] END learning_rate=0.01, max_depth=9, min_child_weight=1, n_estimators=200;, score=0.923 total time=   3.5s\n",
      "[CV 1/5] END learning_rate=0.01, max_depth=9, min_child_weight=1, n_estimators=500;, score=0.926 total time=   8.9s\n",
      "[CV 2/5] END learning_rate=0.01, max_depth=9, min_child_weight=1, n_estimators=500;, score=0.925 total time=   9.2s\n",
      "[CV 3/5] END learning_rate=0.01, max_depth=9, min_child_weight=1, n_estimators=500;, score=0.923 total time=   8.7s\n",
      "[CV 4/5] END learning_rate=0.01, max_depth=9, min_child_weight=1, n_estimators=500;, score=0.924 total time=   8.6s\n",
      "[CV 5/5] END learning_rate=0.01, max_depth=9, min_child_weight=1, n_estimators=500;, score=0.923 total time=   8.5s\n",
      "[CV 1/5] END learning_rate=0.01, max_depth=9, min_child_weight=1, n_estimators=1000;, score=0.926 total time=  17.0s\n",
      "[CV 2/5] END learning_rate=0.01, max_depth=9, min_child_weight=1, n_estimators=1000;, score=0.925 total time=  37.0s\n",
      "[CV 3/5] END learning_rate=0.01, max_depth=9, min_child_weight=1, n_estimators=1000;, score=0.923 total time=  14.6s\n",
      "[CV 4/5] END learning_rate=0.01, max_depth=9, min_child_weight=1, n_estimators=1000;, score=0.924 total time=  19.2s\n",
      "[CV 5/5] END learning_rate=0.01, max_depth=9, min_child_weight=1, n_estimators=1000;, score=0.923 total time=  19.3s\n",
      "[CV 1/5] END learning_rate=0.1, max_depth=5, min_child_weight=1, n_estimators=200;, score=0.926 total time=   3.3s\n",
      "[CV 2/5] END learning_rate=0.1, max_depth=5, min_child_weight=1, n_estimators=200;, score=0.927 total time=   3.5s\n",
      "[CV 3/5] END learning_rate=0.1, max_depth=5, min_child_weight=1, n_estimators=200;, score=0.924 total time=   2.4s\n",
      "[CV 4/5] END learning_rate=0.1, max_depth=5, min_child_weight=1, n_estimators=200;, score=0.925 total time=   2.4s\n",
      "[CV 5/5] END learning_rate=0.1, max_depth=5, min_child_weight=1, n_estimators=200;, score=0.924 total time=   2.3s\n",
      "[CV 1/5] END learning_rate=0.1, max_depth=5, min_child_weight=1, n_estimators=500;, score=0.925 total time=   7.5s\n",
      "[CV 2/5] END learning_rate=0.1, max_depth=5, min_child_weight=1, n_estimators=500;, score=0.925 total time=   5.0s\n",
      "[CV 3/5] END learning_rate=0.1, max_depth=5, min_child_weight=1, n_estimators=500;, score=0.923 total time=   6.6s\n",
      "[CV 4/5] END learning_rate=0.1, max_depth=5, min_child_weight=1, n_estimators=500;, score=0.925 total time=   6.0s\n",
      "[CV 5/5] END learning_rate=0.1, max_depth=5, min_child_weight=1, n_estimators=500;, score=0.923 total time=   3.1s\n",
      "[CV 1/5] END learning_rate=0.1, max_depth=5, min_child_weight=1, n_estimators=1000;, score=0.925 total time=   9.2s\n",
      "[CV 2/5] END learning_rate=0.1, max_depth=5, min_child_weight=1, n_estimators=1000;, score=0.925 total time=   9.8s\n",
      "[CV 3/5] END learning_rate=0.1, max_depth=5, min_child_weight=1, n_estimators=1000;, score=0.924 total time=   6.9s\n",
      "[CV 4/5] END learning_rate=0.1, max_depth=5, min_child_weight=1, n_estimators=1000;, score=0.924 total time=   6.7s\n",
      "[CV 5/5] END learning_rate=0.1, max_depth=5, min_child_weight=1, n_estimators=1000;, score=0.923 total time=   5.6s\n",
      "[CV 1/5] END learning_rate=0.1, max_depth=7, min_child_weight=1, n_estimators=200;, score=0.925 total time=   2.6s\n",
      "[CV 2/5] END learning_rate=0.1, max_depth=7, min_child_weight=1, n_estimators=200;, score=0.925 total time=   2.6s\n",
      "[CV 3/5] END learning_rate=0.1, max_depth=7, min_child_weight=1, n_estimators=200;, score=0.923 total time=   2.6s\n",
      "[CV 4/5] END learning_rate=0.1, max_depth=7, min_child_weight=1, n_estimators=200;, score=0.924 total time=   2.5s\n",
      "[CV 5/5] END learning_rate=0.1, max_depth=7, min_child_weight=1, n_estimators=200;, score=0.922 total time=   2.5s\n",
      "[CV 1/5] END learning_rate=0.1, max_depth=7, min_child_weight=1, n_estimators=500;, score=0.926 total time=   6.2s\n",
      "[CV 2/5] END learning_rate=0.1, max_depth=7, min_child_weight=1, n_estimators=500;, score=0.924 total time=   4.1s\n",
      "[CV 3/5] END learning_rate=0.1, max_depth=7, min_child_weight=1, n_estimators=500;, score=0.924 total time=   6.7s\n",
      "[CV 4/5] END learning_rate=0.1, max_depth=7, min_child_weight=1, n_estimators=500;, score=0.923 total time=   6.1s\n",
      "[CV 5/5] END learning_rate=0.1, max_depth=7, min_child_weight=1, n_estimators=500;, score=0.922 total time=   6.0s\n",
      "[CV 1/5] END learning_rate=0.1, max_depth=7, min_child_weight=1, n_estimators=1000;, score=0.925 total time=  19.7s\n"
     ]
    },
    {
     "name": "stdout",
     "output_type": "stream",
     "text": [
      "[CV 2/5] END learning_rate=0.1, max_depth=7, min_child_weight=1, n_estimators=1000;, score=0.925 total time=  12.1s\n",
      "[CV 3/5] END learning_rate=0.1, max_depth=7, min_child_weight=1, n_estimators=1000;, score=0.924 total time=  12.4s\n",
      "[CV 4/5] END learning_rate=0.1, max_depth=7, min_child_weight=1, n_estimators=1000;, score=0.923 total time=  10.0s\n",
      "[CV 5/5] END learning_rate=0.1, max_depth=7, min_child_weight=1, n_estimators=1000;, score=0.922 total time=  22.5s\n",
      "[CV 1/5] END learning_rate=0.1, max_depth=9, min_child_weight=1, n_estimators=200;, score=0.926 total time=   5.0s\n",
      "[CV 2/5] END learning_rate=0.1, max_depth=9, min_child_weight=1, n_estimators=200;, score=0.925 total time=   3.8s\n",
      "[CV 3/5] END learning_rate=0.1, max_depth=9, min_child_weight=1, n_estimators=200;, score=0.924 total time=   4.0s\n",
      "[CV 4/5] END learning_rate=0.1, max_depth=9, min_child_weight=1, n_estimators=200;, score=0.923 total time=   4.0s\n",
      "[CV 5/5] END learning_rate=0.1, max_depth=9, min_child_weight=1, n_estimators=200;, score=0.922 total time=   5.3s\n",
      "[CV 1/5] END learning_rate=0.1, max_depth=9, min_child_weight=1, n_estimators=500;, score=0.925 total time=   5.1s\n",
      "[CV 2/5] END learning_rate=0.1, max_depth=9, min_child_weight=1, n_estimators=500;, score=0.924 total time=   8.0s\n",
      "[CV 3/5] END learning_rate=0.1, max_depth=9, min_child_weight=1, n_estimators=500;, score=0.924 total time=   6.8s\n",
      "[CV 4/5] END learning_rate=0.1, max_depth=9, min_child_weight=1, n_estimators=500;, score=0.923 total time=   5.0s\n",
      "[CV 5/5] END learning_rate=0.1, max_depth=9, min_child_weight=1, n_estimators=500;, score=0.922 total time=   5.3s\n",
      "[CV 1/5] END learning_rate=0.1, max_depth=9, min_child_weight=1, n_estimators=1000;, score=0.925 total time=  10.9s\n",
      "[CV 2/5] END learning_rate=0.1, max_depth=9, min_child_weight=1, n_estimators=1000;, score=0.924 total time=  19.3s\n",
      "[CV 3/5] END learning_rate=0.1, max_depth=9, min_child_weight=1, n_estimators=1000;, score=0.924 total time=  11.1s\n",
      "[CV 4/5] END learning_rate=0.1, max_depth=9, min_child_weight=1, n_estimators=1000;, score=0.922 total time=  10.0s\n",
      "[CV 5/5] END learning_rate=0.1, max_depth=9, min_child_weight=1, n_estimators=1000;, score=0.921 total time=  15.4s\n"
     ]
    },
    {
     "data": {
      "text/html": [
       "<style>#sk-container-id-4 {color: black;background-color: white;}#sk-container-id-4 pre{padding: 0;}#sk-container-id-4 div.sk-toggleable {background-color: white;}#sk-container-id-4 label.sk-toggleable__label {cursor: pointer;display: block;width: 100%;margin-bottom: 0;padding: 0.3em;box-sizing: border-box;text-align: center;}#sk-container-id-4 label.sk-toggleable__label-arrow:before {content: \"▸\";float: left;margin-right: 0.25em;color: #696969;}#sk-container-id-4 label.sk-toggleable__label-arrow:hover:before {color: black;}#sk-container-id-4 div.sk-estimator:hover label.sk-toggleable__label-arrow:before {color: black;}#sk-container-id-4 div.sk-toggleable__content {max-height: 0;max-width: 0;overflow: hidden;text-align: left;background-color: #f0f8ff;}#sk-container-id-4 div.sk-toggleable__content pre {margin: 0.2em;color: black;border-radius: 0.25em;background-color: #f0f8ff;}#sk-container-id-4 input.sk-toggleable__control:checked~div.sk-toggleable__content {max-height: 200px;max-width: 100%;overflow: auto;}#sk-container-id-4 input.sk-toggleable__control:checked~label.sk-toggleable__label-arrow:before {content: \"▾\";}#sk-container-id-4 div.sk-estimator input.sk-toggleable__control:checked~label.sk-toggleable__label {background-color: #d4ebff;}#sk-container-id-4 div.sk-label input.sk-toggleable__control:checked~label.sk-toggleable__label {background-color: #d4ebff;}#sk-container-id-4 input.sk-hidden--visually {border: 0;clip: rect(1px 1px 1px 1px);clip: rect(1px, 1px, 1px, 1px);height: 1px;margin: -1px;overflow: hidden;padding: 0;position: absolute;width: 1px;}#sk-container-id-4 div.sk-estimator {font-family: monospace;background-color: #f0f8ff;border: 1px dotted black;border-radius: 0.25em;box-sizing: border-box;margin-bottom: 0.5em;}#sk-container-id-4 div.sk-estimator:hover {background-color: #d4ebff;}#sk-container-id-4 div.sk-parallel-item::after {content: \"\";width: 100%;border-bottom: 1px solid gray;flex-grow: 1;}#sk-container-id-4 div.sk-label:hover label.sk-toggleable__label {background-color: #d4ebff;}#sk-container-id-4 div.sk-serial::before {content: \"\";position: absolute;border-left: 1px solid gray;box-sizing: border-box;top: 0;bottom: 0;left: 50%;z-index: 0;}#sk-container-id-4 div.sk-serial {display: flex;flex-direction: column;align-items: center;background-color: white;padding-right: 0.2em;padding-left: 0.2em;position: relative;}#sk-container-id-4 div.sk-item {position: relative;z-index: 1;}#sk-container-id-4 div.sk-parallel {display: flex;align-items: stretch;justify-content: center;background-color: white;position: relative;}#sk-container-id-4 div.sk-item::before, #sk-container-id-4 div.sk-parallel-item::before {content: \"\";position: absolute;border-left: 1px solid gray;box-sizing: border-box;top: 0;bottom: 0;left: 50%;z-index: -1;}#sk-container-id-4 div.sk-parallel-item {display: flex;flex-direction: column;z-index: 1;position: relative;background-color: white;}#sk-container-id-4 div.sk-parallel-item:first-child::after {align-self: flex-end;width: 50%;}#sk-container-id-4 div.sk-parallel-item:last-child::after {align-self: flex-start;width: 50%;}#sk-container-id-4 div.sk-parallel-item:only-child::after {width: 0;}#sk-container-id-4 div.sk-dashed-wrapped {border: 1px dashed gray;margin: 0 0.4em 0.5em 0.4em;box-sizing: border-box;padding-bottom: 0.4em;background-color: white;}#sk-container-id-4 div.sk-label label {font-family: monospace;font-weight: bold;display: inline-block;line-height: 1.2em;}#sk-container-id-4 div.sk-label-container {text-align: center;}#sk-container-id-4 div.sk-container {/* jupyter's `normalize.less` sets `[hidden] { display: none; }` but bootstrap.min.css set `[hidden] { display: none !important; }` so we also need the `!important` here to be able to override the default hidden behavior on the sphinx rendered scikit-learn.org. See: https://github.com/scikit-learn/scikit-learn/issues/21755 */display: inline-block !important;position: relative;}#sk-container-id-4 div.sk-text-repr-fallback {display: none;}</style><div id=\"sk-container-id-4\" class=\"sk-top-container\"><div class=\"sk-text-repr-fallback\"><pre>GridSearchCV(estimator=XGBClassifier(base_score=0.5, booster=&#x27;gbtree&#x27;,\n",
       "                                     callbacks=None, colsample_bylevel=1,\n",
       "                                     colsample_bynode=1, colsample_bytree=1,\n",
       "                                     early_stopping_rounds=None,\n",
       "                                     enable_categorical=False, eval_metric=None,\n",
       "                                     feature_types=None, gamma=0, gpu_id=-1,\n",
       "                                     grow_policy=&#x27;depthwise&#x27;,\n",
       "                                     importance_type=None,\n",
       "                                     interaction_constraints=&#x27;&#x27;,\n",
       "                                     learning_rate=0.300000012, max_...\n",
       "                                     max_cat_threshold=64, max_cat_to_onehot=4,\n",
       "                                     max_delta_step=0, max_depth=6,\n",
       "                                     max_leaves=0, min_child_weight=1,\n",
       "                                     missing=nan, monotone_constraints=&#x27;()&#x27;,\n",
       "                                     n_estimators=100, n_jobs=0,\n",
       "                                     num_parallel_tree=1, predictor=&#x27;auto&#x27;,\n",
       "                                     random_state=0, ...),\n",
       "             param_grid={&#x27;learning_rate&#x27;: [0.01, 0.1],\n",
       "                         &#x27;max_depth&#x27;: array([5, 7, 9]),\n",
       "                         &#x27;min_child_weight&#x27;: array([1]),\n",
       "                         &#x27;n_estimators&#x27;: [200, 500, 1000]},\n",
       "             verbose=3)</pre><b>In a Jupyter environment, please rerun this cell to show the HTML representation or trust the notebook. <br />On GitHub, the HTML representation is unable to render, please try loading this page with nbviewer.org.</b></div><div class=\"sk-container\" hidden><div class=\"sk-item sk-dashed-wrapped\"><div class=\"sk-label-container\"><div class=\"sk-label sk-toggleable\"><input class=\"sk-toggleable__control sk-hidden--visually\" id=\"sk-estimator-id-4\" type=\"checkbox\" ><label for=\"sk-estimator-id-4\" class=\"sk-toggleable__label sk-toggleable__label-arrow\">GridSearchCV</label><div class=\"sk-toggleable__content\"><pre>GridSearchCV(estimator=XGBClassifier(base_score=0.5, booster=&#x27;gbtree&#x27;,\n",
       "                                     callbacks=None, colsample_bylevel=1,\n",
       "                                     colsample_bynode=1, colsample_bytree=1,\n",
       "                                     early_stopping_rounds=None,\n",
       "                                     enable_categorical=False, eval_metric=None,\n",
       "                                     feature_types=None, gamma=0, gpu_id=-1,\n",
       "                                     grow_policy=&#x27;depthwise&#x27;,\n",
       "                                     importance_type=None,\n",
       "                                     interaction_constraints=&#x27;&#x27;,\n",
       "                                     learning_rate=0.300000012, max_...\n",
       "                                     max_cat_threshold=64, max_cat_to_onehot=4,\n",
       "                                     max_delta_step=0, max_depth=6,\n",
       "                                     max_leaves=0, min_child_weight=1,\n",
       "                                     missing=nan, monotone_constraints=&#x27;()&#x27;,\n",
       "                                     n_estimators=100, n_jobs=0,\n",
       "                                     num_parallel_tree=1, predictor=&#x27;auto&#x27;,\n",
       "                                     random_state=0, ...),\n",
       "             param_grid={&#x27;learning_rate&#x27;: [0.01, 0.1],\n",
       "                         &#x27;max_depth&#x27;: array([5, 7, 9]),\n",
       "                         &#x27;min_child_weight&#x27;: array([1]),\n",
       "                         &#x27;n_estimators&#x27;: [200, 500, 1000]},\n",
       "             verbose=3)</pre></div></div></div><div class=\"sk-parallel\"><div class=\"sk-parallel-item\"><div class=\"sk-item\"><div class=\"sk-label-container\"><div class=\"sk-label sk-toggleable\"><input class=\"sk-toggleable__control sk-hidden--visually\" id=\"sk-estimator-id-5\" type=\"checkbox\" ><label for=\"sk-estimator-id-5\" class=\"sk-toggleable__label sk-toggleable__label-arrow\">estimator: XGBClassifier</label><div class=\"sk-toggleable__content\"><pre>XGBClassifier(base_score=0.5, booster=&#x27;gbtree&#x27;, callbacks=None,\n",
       "              colsample_bylevel=1, colsample_bynode=1, colsample_bytree=1,\n",
       "              early_stopping_rounds=None, enable_categorical=False,\n",
       "              eval_metric=None, feature_types=None, gamma=0, gpu_id=-1,\n",
       "              grow_policy=&#x27;depthwise&#x27;, importance_type=None,\n",
       "              interaction_constraints=&#x27;&#x27;, learning_rate=0.300000012,\n",
       "              max_bin=256, max_cat_threshold=64, max_cat_to_onehot=4,\n",
       "              max_delta_step=0, max_depth=6, max_leaves=0, min_child_weight=1,\n",
       "              missing=nan, monotone_constraints=&#x27;()&#x27;, n_estimators=100,\n",
       "              n_jobs=0, num_parallel_tree=1, predictor=&#x27;auto&#x27;, random_state=0, ...)</pre></div></div></div><div class=\"sk-serial\"><div class=\"sk-item\"><div class=\"sk-estimator sk-toggleable\"><input class=\"sk-toggleable__control sk-hidden--visually\" id=\"sk-estimator-id-6\" type=\"checkbox\" ><label for=\"sk-estimator-id-6\" class=\"sk-toggleable__label sk-toggleable__label-arrow\">XGBClassifier</label><div class=\"sk-toggleable__content\"><pre>XGBClassifier(base_score=0.5, booster=&#x27;gbtree&#x27;, callbacks=None,\n",
       "              colsample_bylevel=1, colsample_bynode=1, colsample_bytree=1,\n",
       "              early_stopping_rounds=None, enable_categorical=False,\n",
       "              eval_metric=None, feature_types=None, gamma=0, gpu_id=-1,\n",
       "              grow_policy=&#x27;depthwise&#x27;, importance_type=None,\n",
       "              interaction_constraints=&#x27;&#x27;, learning_rate=0.300000012,\n",
       "              max_bin=256, max_cat_threshold=64, max_cat_to_onehot=4,\n",
       "              max_delta_step=0, max_depth=6, max_leaves=0, min_child_weight=1,\n",
       "              missing=nan, monotone_constraints=&#x27;()&#x27;, n_estimators=100,\n",
       "              n_jobs=0, num_parallel_tree=1, predictor=&#x27;auto&#x27;, random_state=0, ...)</pre></div></div></div></div></div></div></div></div></div></div>"
      ],
      "text/plain": [
       "GridSearchCV(estimator=XGBClassifier(base_score=0.5, booster='gbtree',\n",
       "                                     callbacks=None, colsample_bylevel=1,\n",
       "                                     colsample_bynode=1, colsample_bytree=1,\n",
       "                                     early_stopping_rounds=None,\n",
       "                                     enable_categorical=False, eval_metric=None,\n",
       "                                     feature_types=None, gamma=0, gpu_id=-1,\n",
       "                                     grow_policy='depthwise',\n",
       "                                     importance_type=None,\n",
       "                                     interaction_constraints='',\n",
       "                                     learning_rate=0.300000012, max_...\n",
       "                                     max_cat_threshold=64, max_cat_to_onehot=4,\n",
       "                                     max_delta_step=0, max_depth=6,\n",
       "                                     max_leaves=0, min_child_weight=1,\n",
       "                                     missing=nan, monotone_constraints='()',\n",
       "                                     n_estimators=100, n_jobs=0,\n",
       "                                     num_parallel_tree=1, predictor='auto',\n",
       "                                     random_state=0, ...),\n",
       "             param_grid={'learning_rate': [0.01, 0.1],\n",
       "                         'max_depth': array([5, 7, 9]),\n",
       "                         'min_child_weight': array([1]),\n",
       "                         'n_estimators': [200, 500, 1000]},\n",
       "             verbose=3)"
      ]
     },
     "execution_count": 75,
     "metadata": {},
     "output_type": "execute_result"
    }
   ],
   "source": [
    "grid.fit(X_train, y_train)"
   ]
  },
  {
   "cell_type": "code",
   "execution_count": 76,
   "id": "359d7011",
   "metadata": {},
   "outputs": [
    {
     "data": {
      "text/plain": [
       "{'learning_rate': 0.01,\n",
       " 'max_depth': 5,\n",
       " 'min_child_weight': 1,\n",
       " 'n_estimators': 200}"
      ]
     },
     "execution_count": 76,
     "metadata": {},
     "output_type": "execute_result"
    }
   ],
   "source": [
    "grid.best_params_"
   ]
  },
  {
   "cell_type": "code",
   "execution_count": 77,
   "id": "277f87a4",
   "metadata": {},
   "outputs": [],
   "source": [
    "x_grid_model =XGBClassifier(learning_rate= 0.01,\n",
    "                            max_depth= 5,\n",
    "                            min_child_weight= 1,\n",
    "                            n_estimators= 200, random_state= 0)"
   ]
  },
  {
   "cell_type": "code",
   "execution_count": 80,
   "id": "adaf8e8b",
   "metadata": {},
   "outputs": [],
   "source": [
    "x_grid_pred= model_predict(x_grid_model)"
   ]
  },
  {
   "cell_type": "code",
   "execution_count": 81,
   "id": "31fd7eee",
   "metadata": {},
   "outputs": [
    {
     "name": "stdout",
     "output_type": "stream",
     "text": [
      "              precision    recall  f1-score   support\n",
      "\n",
      "           0       0.93      1.00      0.96     10453\n",
      "           1       0.77      0.15      0.25       921\n",
      "\n",
      "    accuracy                           0.93     11374\n",
      "   macro avg       0.85      0.57      0.61     11374\n",
      "weighted avg       0.92      0.93      0.90     11374\n",
      "\n"
     ]
    }
   ],
   "source": [
    "print(classification_report(y_test, x_grid_pred))"
   ]
  },
  {
   "cell_type": "code",
   "execution_count": 82,
   "id": "8b2c0573",
   "metadata": {},
   "outputs": [
    {
     "name": "stdout",
     "output_type": "stream",
     "text": [
      "              precision    recall  f1-score   support\n",
      "\n",
      "           0       0.93      1.00      0.96     10453\n",
      "           1       0.77      0.15      0.25       921\n",
      "\n",
      "    accuracy                           0.93     11374\n",
      "   macro avg       0.85      0.57      0.61     11374\n",
      "weighted avg       0.92      0.93      0.90     11374\n",
      "\n"
     ]
    }
   ],
   "source": [
    "# using the grid to predict\n",
    "grid_pred = grid.predict(X_test)\n",
    "print(classification_report(y_test, grid_pred))"
   ]
  },
  {
   "cell_type": "markdown",
   "id": "0ac029bc",
   "metadata": {},
   "source": [
    "## Use tuned model on test data"
   ]
  },
  {
   "cell_type": "code",
   "execution_count": 83,
   "id": "b12c685d",
   "metadata": {},
   "outputs": [],
   "source": [
    "grid_predictions_df_test= grid.predict(x_val)"
   ]
  },
  {
   "cell_type": "code",
   "execution_count": 84,
   "id": "77b501a2",
   "metadata": {},
   "outputs": [],
   "source": [
    "df_test['Promoted_or_not']= grid_predictions_df_test"
   ]
  },
  {
   "cell_type": "code",
   "execution_count": 85,
   "id": "4a90b8cf",
   "metadata": {},
   "outputs": [
    {
     "data": {
      "text/html": [
       "<div>\n",
       "<style scoped>\n",
       "    .dataframe tbody tr th:only-of-type {\n",
       "        vertical-align: middle;\n",
       "    }\n",
       "\n",
       "    .dataframe tbody tr th {\n",
       "        vertical-align: top;\n",
       "    }\n",
       "\n",
       "    .dataframe thead th {\n",
       "        text-align: right;\n",
       "    }\n",
       "</style>\n",
       "<table border=\"1\" class=\"dataframe\">\n",
       "  <thead>\n",
       "    <tr style=\"text-align: right;\">\n",
       "      <th></th>\n",
       "      <th>EmployeeNo</th>\n",
       "      <th>Promoted_or_not</th>\n",
       "    </tr>\n",
       "  </thead>\n",
       "  <tbody>\n",
       "    <tr>\n",
       "      <th>0</th>\n",
       "      <td>YAK/S/00005</td>\n",
       "      <td>0</td>\n",
       "    </tr>\n",
       "    <tr>\n",
       "      <th>1</th>\n",
       "      <td>YAK/S/00011</td>\n",
       "      <td>0</td>\n",
       "    </tr>\n",
       "    <tr>\n",
       "      <th>2</th>\n",
       "      <td>YAK/S/00015</td>\n",
       "      <td>0</td>\n",
       "    </tr>\n",
       "    <tr>\n",
       "      <th>3</th>\n",
       "      <td>YAK/S/00016</td>\n",
       "      <td>0</td>\n",
       "    </tr>\n",
       "    <tr>\n",
       "      <th>4</th>\n",
       "      <td>YAK/S/00017</td>\n",
       "      <td>0</td>\n",
       "    </tr>\n",
       "  </tbody>\n",
       "</table>\n",
       "</div>"
      ],
      "text/plain": [
       "    EmployeeNo  Promoted_or_not\n",
       "0  YAK/S/00005                0\n",
       "1  YAK/S/00011                0\n",
       "2  YAK/S/00015                0\n",
       "3  YAK/S/00016                0\n",
       "4  YAK/S/00017                0"
      ]
     },
     "execution_count": 85,
     "metadata": {},
     "output_type": "execute_result"
    }
   ],
   "source": [
    "new_submission = df_test[['EmployeeNo', 'Promoted_or_not']]\n",
    "new_submission.head()"
   ]
  },
  {
   "cell_type": "code",
   "execution_count": 86,
   "id": "8b7a78c3",
   "metadata": {},
   "outputs": [],
   "source": [
    "new_submission.to_csv('Submission_gridXgb.csv', index= False)"
   ]
  },
  {
   "cell_type": "code",
   "execution_count": null,
   "id": "f63a6f37",
   "metadata": {},
   "outputs": [],
   "source": []
  }
 ],
 "metadata": {
  "kernelspec": {
   "display_name": "Python 3 (ipykernel)",
   "language": "python",
   "name": "python3"
  },
  "language_info": {
   "codemirror_mode": {
    "name": "ipython",
    "version": 3
   },
   "file_extension": ".py",
   "mimetype": "text/x-python",
   "name": "python",
   "nbconvert_exporter": "python",
   "pygments_lexer": "ipython3",
   "version": "3.9.12"
  }
 },
 "nbformat": 4,
 "nbformat_minor": 5
}
